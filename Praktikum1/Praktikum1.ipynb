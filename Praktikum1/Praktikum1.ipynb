{
 "cells": [
  {
   "cell_type": "code",
   "execution_count": 2,
   "metadata": {},
   "outputs": [],
   "source": [
    "# def hat_f( x , Theta ):\n",
    "#     a=1/(1+exp ( −( Theta [ 1 ] * x[0] + Theta[2]* x [1] + Theta [ 3 ] ) ) )\n",
    "#     b=1/(1+exp ( −( Theta [ 4 ]* x[0] + Theta [ 5 ]* x[1] + Theta [ 6 ] ) ) )\n",
    "#     c =1/(1+exp ( −( Theta [ 7 ]*x [ 1 ] + Theta [ 8 ]*x [ 2 ] + Theta [ 9 ] ) ) )\n",
    "#     d=1/(1+exp ( −( Theta [ 1 0 ]* a+Theta [ 1 1 ]* b+Theta [ 1 2 ]* c+Theta [ 1 3 ] ) ) )\n",
    "#     e =1/(1+exp ( −( Theta [ 1 4 ]*a+Theta [ 1 5 ]* b+Theta [ 1 6 ]*c+Theta [ 1 7 ] ) ) )\n",
    "#     hat_y=tanh ( Theta [ 1 8 ]*d+Theta [ 1 9 ]*e+Theta [ 2 0 ] )\n",
    "#     return hat_y\n",
    "# end\n"
   ]
  },
  {
   "cell_type": "code",
   "execution_count": 4,
   "metadata": {},
   "outputs": [],
   "source": [
    "import numpy as np\n",
    "\n",
    "n = 200\n",
    "samples = np.array([np.array([np.random.uniform(-6, 6), np.random.uniform(-6, 6)]) for i in range(n)])\n",
    "\n",
    "n_params = 21\n",
    "Theta = list(np.zeros(n_params))\n",
    "Theta[1]=0.12 \n",
    "Theta[2]=1.6 \n",
    "Theta[3]=3.2 \n",
    "Theta[4]=1.5\n",
    "Theta[5]=-1.1 \n",
    "Theta[6]=3.2 \n",
    "Theta[7]=1.4 \n",
    "Theta[8]=0.54 \n",
    "Theta[9]=-3.3 \n",
    "Theta[10]=3.8 \n",
    "Theta[11]=2.6\n",
    "Theta[12]=-4.5\n",
    "Theta[13]=-3.4\n",
    "Theta[14]=-2.0\n",
    "Theta[15]=-3.3\n",
    "Theta[16]=1.7\n",
    "Theta[17]=3.2\n",
    "Theta[18]=7.2\n",
    "Theta[19]=-6.0\n",
    "Theta[20]=-1.8\n",
    "\n",
    "W_layer1 = np.array([[Theta[1], Theta[4], Theta[7]],\n",
    "                     [Theta[2], Theta[5], Theta[8]]])\n",
    "\n",
    "W_layer2 = np.array([[Theta[10], Theta[14]],\n",
    "                     [Theta[11], Theta[15]],\n",
    "                     [Theta[12], Theta[16]]])\n",
    "\n",
    "W_layer3 = np.array([[Theta[18]],\n",
    "                     [Theta[19]]])\n",
    "\n",
    "bias_1 = np.array([Theta[3], Theta[6], Theta[9]])\n",
    "bias_2 = np.array([Theta[13], Theta[17]])\n",
    "bias_3 = np.array([Theta[20]])"
   ]
  },
  {
   "cell_type": "code",
   "execution_count": 6,
   "metadata": {},
   "outputs": [
    {
     "name": "stderr",
     "output_type": "stream",
     "text": [
      "WARNING (theano.configdefaults): g++ not available, if using conda: `conda install m2w64-toolchain`\n",
      "c:\\Users\\jonas\\anaconda3\\envs\\ginn_p1\\lib\\site-packages\\theano\\configdefaults.py:560: UserWarning: DeprecationWarning: there is no c++ compiler.This is deprecated and with Theano 0.11 a c++ compiler will be mandatory\n",
      "  warnings.warn(\"DeprecationWarning: there is no c++ compiler.\"\n",
      "WARNING (theano.configdefaults): g++ not detected ! Theano will be unable to execute optimized C-implementations (for both CPU and GPU) and will default to Python implementations. Performance will be severely degraded. To remove this warning, set Theano flags cxx to an empty string.\n",
      "WARNING (theano.tensor.blas): Using NumPy C-API based implementation for BLAS functions.\n"
     ]
    }
   ],
   "source": [
    "import lasagne\n",
    "import theano\n",
    "import theano.tensor as T\n",
    "from lasagne.nonlinearities import sigmoid, tanh\n",
    "\n",
    "x = T.matrix('x')\n",
    "\n",
    "input_layer = lasagne.layers.InputLayer((1, 2), input_var=x) # x hier schon eingeben?\n",
    "hidden_1 = lasagne.layers.DenseLayer(input_layer, num_units=3, W=W_layer1, b=bias_1, nonlinearity=sigmoid)\n",
    "hidden_2 = lasagne.layers.DenseLayer(hidden_1, num_units=2, W=W_layer2, b=bias_2, nonlinearity=sigmoid)\n",
    "output_layer =lasagne.layers.DenseLayer(hidden_2, num_units=1, W=W_layer3, b=bias_3, nonlinearity=tanh)\n",
    "\n",
    "network_output = lasagne.layers.get_output(output_layer, x)\n",
    "compute_output = theano.function([x], network_output)\n",
    "\n",
    "# Perform forward step\n",
    "output_result = compute_output(samples)\n",
    "\n",
    "positives = output_result > 0\n",
    "positives = positives[:,0]"
   ]
  },
  {
   "cell_type": "code",
   "execution_count": 9,
   "metadata": {},
   "outputs": [
    {
     "data": {
      "image/png": "[encoded data removed]",
      "text/plain": [
       "<Figure size 576x432 with 1 Axes>"
      ]
     },
     "metadata": {
      "needs_background": "light"
     },
     "output_type": "display_data"
    }
   ],
   "source": [
    "import matplotlib.pyplot as plt\n",
    "\n",
    "x_values = samples[:, 0]\n",
    "y_values = samples[:, 1]\n",
    "\n",
    "# Plot the samples in a scatter plot\n",
    "plt.figure(figsize=(8, 6))\n",
    "plt.scatter(x_values[positives], y_values[positives], color='#077726', label='Positives')\n",
    "plt.scatter(x_values[~positives], y_values[~positives], color='#d50304', label='Negatives')\n",
    "plt.xlabel('X')\n",
    "plt.ylabel('Y')\n",
    "plt.title('Output of f-Hat function')\n",
    "plt.legend()\n",
    "plt.grid(True)\n",
    "plt.show()"
   ]
  }
 ],
 "metadata": {
  "kernelspec": {
   "display_name": "base",
   "language": "python",
   "name": "python3"
  },
  "language_info": {
   "codemirror_mode": {
    "name": "ipython",
    "version": 3
   },
   "file_extension": ".py",
   "mimetype": "text/x-python",
   "name": "python",
   "nbconvert_exporter": "python",
   "pygments_lexer": "ipython3",
   "version": "3.6.15"
  }
 },
 "nbformat": 4,
 "nbformat_minor": 2
}
