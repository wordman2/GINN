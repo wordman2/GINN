{
 "cells": [
  {
   "cell_type": "markdown",
   "metadata": {},
   "source": [
    "# Praktikum 3: Softmax, Regularisierung, Momentum und Batchsize\n",
    "## 4. Eigener Datensatz\n",
    "Suchen Sie sich eine verfügbare PyTorch MLP-Implementierung für einen Datensatz heraus, der Sie besonders interessiert. Reproduzieren Sie die Ergebnisse lokal, auf colab oder RosettaHub. Ist die Implementierung vergleichbar mit der hier gegebenen IMDB Implementierung? Wo unterscheidet sich diese und ggf. warum? Wie verändern Sich die Ergebnisse, wenn Sie bestimmte Hyperparameter verändern?"
   ]
  },
  {
   "cell_type": "markdown",
   "metadata": {},
   "source": [
    "Quelle: https://github.com/christianversloot/machine-learning-articles/blob/main/creating-a-multilayer-perceptron-with-pytorch-and-lightning.md\n"
   ]
  },
  {
   "cell_type": "code",
   "execution_count": 10,
   "metadata": {},
   "outputs": [],
   "source": [
    "import os\n",
    "import torch\n",
    "from torch import nn\n",
    "from torchvision.datasets import CIFAR10\n",
    "from torch.utils.data import DataLoader\n",
    "from torchvision import transforms\n",
    "\n",
    "from matplotlib import pyplot as plt\n",
    "import numpy as np\n",
    "from torcheval.metrics import MulticlassAccuracy, MulticlassPrecision, MulticlassRecall\n",
    "import pandas as pd"
   ]
  },
  {
   "cell_type": "markdown",
   "metadata": {},
   "source": [
    "Unterschied zu IMDB Implementierung:\n",
    "- hier feste Neuronenanzahl je Layer, andere werden erst bei Initialisierung festgelegt\n",
    "- vorher flatten() ausgeführt, bei uns wird x_train vorher in torch umgewandelt\n",
    "- ReLU statt sigmoid verwendet\n",
    "- keine Aktivierungsfunktion im letzten Layer"
   ]
  },
  {
   "cell_type": "code",
   "execution_count": 11,
   "metadata": {},
   "outputs": [],
   "source": [
    "class MLP(nn.Module):\n",
    "  '''\n",
    "    Multilayer Perceptron.\n",
    "  '''\n",
    "  def __init__(self):\n",
    "    super().__init__()\n",
    "    self.layers = nn.Sequential(\n",
    "      nn.Flatten(),\n",
    "      nn.Linear(32 * 32 * 3, 64),\n",
    "      nn.ReLU(), # original\n",
    "      # nn.Sigmoid(), \n",
    "      nn.Linear(64, 32),\n",
    "      nn.ReLU(), # original\n",
    "      # nn.Sigmoid(), \n",
    "      nn.Linear(32, 10),\n",
    "      # nn.Softmax() #selbst hinzugefügt\n",
    "    )\n",
    "\n",
    "\n",
    "  def forward(self, x):\n",
    "    '''Forward pass'''\n",
    "    return self.layers(x)"
   ]
  },
  {
   "cell_type": "markdown",
   "metadata": {},
   "source": [
    "Unterschied zu IMDB Implementierung:\n",
    "- Funktion zur Erstellung der batches selbst definiert\n",
    "- Es werden keine Testdaten verwendet"
   ]
  },
  {
   "cell_type": "markdown",
   "metadata": {},
   "source": [
    "https://pytorch.org/docs/stable/data.html#torch.utils.data.DataLoader"
   ]
  },
  {
   "cell_type": "code",
   "execution_count": 12,
   "metadata": {},
   "outputs": [
    {
     "name": "stdout",
     "output_type": "stream",
     "text": [
      "Files already downloaded and verified\n"
     ]
    }
   ],
   "source": [
    "# Prepare CIFAR-10 dataset\n",
    "dataset = CIFAR10(os.getcwd(), download=True, transform=transforms.ToTensor())\n",
    "trainloader = torch.utils.data.DataLoader(dataset, batch_size=10, shuffle=True, num_workers=1)"
   ]
  },
  {
   "cell_type": "markdown",
   "metadata": {},
   "source": [
    "Unterschied zu IMDB Implementierung:\n",
    "- Adam statt SGD optimizer\n",
    "- beide verwenden CrossEnropyLoss"
   ]
  },
  {
   "cell_type": "code",
   "execution_count": 13,
   "metadata": {},
   "outputs": [],
   "source": [
    "# Initialize the MLP\n",
    "mlp = MLP()\n",
    "\n",
    "# Define the loss function and optimizer\n",
    "loss_function = nn.CrossEntropyLoss()\n",
    "optimizer = torch.optim.Adam(mlp.parameters(), lr=1e-4)# vorher 1e-4"
   ]
  },
  {
   "cell_type": "code",
   "execution_count": 14,
   "metadata": {},
   "outputs": [
    {
     "data": {
      "text/plain": [
       "=================================================================\n",
       "Layer (type:depth-idx)                   Param #\n",
       "=================================================================\n",
       "MLP                                      --\n",
       "├─Sequential: 1-1                        --\n",
       "│    └─Flatten: 2-1                      --\n",
       "│    └─Linear: 2-2                       196,672\n",
       "│    └─ReLU: 2-3                         --\n",
       "│    └─Linear: 2-4                       2,080\n",
       "│    └─ReLU: 2-5                         --\n",
       "│    └─Linear: 2-6                       330\n",
       "=================================================================\n",
       "Total params: 199,082\n",
       "Trainable params: 199,082\n",
       "Non-trainable params: 0\n",
       "================================================================="
      ]
     },
     "execution_count": 14,
     "metadata": {},
     "output_type": "execute_result"
    }
   ],
   "source": [
    "# summary über model\n",
    "from torchinfo import summary\n",
    "summary(mlp)"
   ]
  },
  {
   "cell_type": "markdown",
   "metadata": {},
   "source": [
    "Unterschied zu IMDB Implementierung:\n",
    "- kaum Unterschied zur IMDB Implementierung\n",
    "- Epochenanzahl festgelegt und nicht variabel"
   ]
  },
  {
   "cell_type": "code",
   "execution_count": 15,
   "metadata": {},
   "outputs": [],
   "source": [
    "# loss_list = [] \n",
    "# # Run the training loop\n",
    "# for epoch in range(0, 5): # 5 epochs at maximum\n",
    "\n",
    "#     # Print epoch\n",
    "#     print(f'Starting epoch {epoch+1}')\n",
    "\n",
    "#     # Set current loss value\n",
    "#     current_loss = 0.0\n",
    "\n",
    "#     # Iterate over the DataLoader for training data\n",
    "#     for i, data in enumerate(trainloader, 0):\n",
    "        \n",
    "#         # Get inputs\n",
    "#         inputs, targets = data\n",
    "        \n",
    "#         # Zero the gradients\n",
    "#         optimizer.zero_grad()\n",
    "        \n",
    "#         # Perform forward pass\n",
    "#         outputs = mlp(inputs)\n",
    "        \n",
    "#         # Compute loss\n",
    "#         loss = loss_function(outputs, targets)\n",
    "        \n",
    "#         # Perform backward pass\n",
    "#         loss.backward()\n",
    "        \n",
    "#         # Perform optimization\n",
    "#         optimizer.step()\n",
    "        \n",
    "#         loss_list.append(loss.item())\n",
    "\n",
    "#         # Print statistics\n",
    "#         current_loss += loss.item()\n",
    "#         if i % 500 == 499:\n",
    "#             print('Loss after mini-batch %5d: %.3f' %\n",
    "#                 (i + 1, current_loss / 500))\n",
    "#             current_loss = 0.0\n",
    "\n",
    "#     # Process is complete.\n",
    "# print('Training process has finished.')"
   ]
  },
  {
   "cell_type": "code",
   "execution_count": 16,
   "metadata": {},
   "outputs": [
    {
     "name": "stdout",
     "output_type": "stream",
     "text": [
      "Starting epoch 1\n",
      "Loss after mini-batch   500: 2.229\n",
      "Loss after mini-batch  1000: 2.099\n",
      "Loss after mini-batch  1500: 2.021\n",
      "Loss after mini-batch  2000: 1.980\n",
      "Loss after mini-batch  2500: 1.939\n",
      "Loss after mini-batch  3000: 1.916\n",
      "Loss after mini-batch  3500: 1.929\n",
      "Loss after mini-batch  4000: 1.897\n",
      "Loss after mini-batch  4500: 1.897\n",
      "Loss after mini-batch  5000: 1.843\n",
      "Metriken Epoche 1: Accuracy - 0.11661999672651291, Precision - 0.11661999672651291, Recall - 0.11661999672651291\n",
      "Starting epoch 2\n",
      "Loss after mini-batch   500: 1.853\n",
      "Loss after mini-batch  1000: 1.831\n",
      "Loss after mini-batch  1500: 1.829\n",
      "Loss after mini-batch  2000: 1.827\n",
      "Loss after mini-batch  2500: 1.794\n",
      "Loss after mini-batch  3000: 1.821\n",
      "Loss after mini-batch  3500: 1.792\n",
      "Loss after mini-batch  4000: 1.786\n",
      "Loss after mini-batch  4500: 1.794\n",
      "Loss after mini-batch  5000: 1.757\n",
      "Metriken Epoche 2: Accuracy - 0.12285999953746796, Precision - 0.12285999953746796, Recall - 0.12285999953746796\n",
      "Starting epoch 3\n",
      "Loss after mini-batch   500: 1.748\n",
      "Loss after mini-batch  1000: 1.761\n",
      "Loss after mini-batch  1500: 1.752\n",
      "Loss after mini-batch  2000: 1.757\n",
      "Loss after mini-batch  2500: 1.743\n",
      "Loss after mini-batch  3000: 1.749\n",
      "Loss after mini-batch  3500: 1.731\n",
      "Loss after mini-batch  4000: 1.737\n",
      "Loss after mini-batch  4500: 1.734\n",
      "Loss after mini-batch  5000: 1.749\n",
      "Metriken Epoche 3: Accuracy - 0.12297999858856201, Precision - 0.12297999858856201, Recall - 0.12297999858856201\n",
      "Starting epoch 4\n",
      "Loss after mini-batch   500: 1.747\n",
      "Loss after mini-batch  1000: 1.703\n",
      "Loss after mini-batch  1500: 1.719\n",
      "Loss after mini-batch  2000: 1.689\n",
      "Loss after mini-batch  2500: 1.700\n",
      "Loss after mini-batch  3000: 1.684\n",
      "Loss after mini-batch  3500: 1.690\n",
      "Loss after mini-batch  4000: 1.705\n",
      "Loss after mini-batch  4500: 1.690\n",
      "Loss after mini-batch  5000: 1.705\n",
      "Metriken Epoche 4: Accuracy - 0.12685999274253845, Precision - 0.12685999274253845, Recall - 0.12685999274253845\n",
      "Starting epoch 5\n",
      "Loss after mini-batch   500: 1.685\n",
      "Loss after mini-batch  1000: 1.667\n",
      "Loss after mini-batch  1500: 1.683\n",
      "Loss after mini-batch  2000: 1.668\n",
      "Loss after mini-batch  2500: 1.660\n",
      "Loss after mini-batch  3000: 1.683\n",
      "Loss after mini-batch  3500: 1.667\n",
      "Loss after mini-batch  4000: 1.667\n",
      "Loss after mini-batch  4500: 1.666\n",
      "Loss after mini-batch  5000: 1.660\n",
      "Metriken Epoche 5: Accuracy - 0.12581999599933624, Precision - 0.12581999599933624, Recall - 0.12581999599933624\n",
      "Training process has finished.\n"
     ]
    }
   ],
   "source": [
    "loss_list = [] \n",
    "loss_dict = dict()\n",
    "correct = []\n",
    "\n",
    "accuracy = MulticlassAccuracy()\n",
    "precision = MulticlassPrecision()\n",
    "recall = MulticlassRecall()\n",
    "\n",
    "accuracy_list = []\n",
    "\n",
    "# Run the training loop\n",
    "for epoch in range(0, 5): # 5 epochs at maximum\n",
    "\n",
    "    accuracy.reset()\n",
    "    precision.reset()\n",
    "    recall.reset()\n",
    "\n",
    "    # Print epoch\n",
    "    print(f'Starting epoch {epoch+1}')\n",
    "\n",
    "    # Set current loss value\n",
    "    current_loss = 0.0\n",
    "\n",
    "    # Iterate over the DataLoader for training data\n",
    "    for i, data in enumerate(trainloader, 0):\n",
    "        \n",
    "        # Get inputs\n",
    "        inputs, targets = data\n",
    "        \n",
    "        # Zero the gradients\n",
    "        optimizer.zero_grad()\n",
    "        \n",
    "        # Perform forward pass\n",
    "        outputs = mlp(inputs)\n",
    "        \n",
    "        # Compute loss with onehot encoded values\n",
    "        loss = loss_function(outputs,targets)\n",
    "        \n",
    "        # Perform backward pass\n",
    "        loss.backward()\n",
    "        \n",
    "        # Perform optimization\n",
    "        optimizer.step()\n",
    "        \n",
    "        loss_list.append(loss.item())\n",
    "\n",
    "        # Print statistics\n",
    "        current_loss += loss.item()\n",
    "        if i % 500 == 499:\n",
    "            print('Loss after mini-batch %5d: %.3f' %\n",
    "                (i + 1, current_loss / 500))\n",
    "            if epoch == 0:\n",
    "                loss_dict[i] = [current_loss/500]\n",
    "            else:\n",
    "                loss_dict[i].append(current_loss/500)\n",
    "            current_loss = 0.0\n",
    "    \n",
    "        accuracy.update(torch.argmax(outputs, dim=0), targets)\n",
    "        precision.update(torch.argmax(outputs, dim=0), targets)\n",
    "        recall.update(torch.argmax(outputs, dim=0), targets)\n",
    "        \n",
    "        # accuracy.compute() returns accuracy value from all seen data\n",
    "    print(f'Metriken Epoche {epoch+1}: Accuracy - {accuracy.compute()}, Precision - {precision.compute()}, Recall - {recall.compute()}')\n",
    "    \n",
    "    accuracy_list.append(accuracy.compute())\n",
    "    \n",
    "    # Process is complete.\n",
    "print('Training process has finished.')"
   ]
  },
  {
   "cell_type": "markdown",
   "metadata": {},
   "source": [
    "Accuracy ist etwas besser als Zufall (0.1)."
   ]
  },
  {
   "cell_type": "code",
   "execution_count": 17,
   "metadata": {},
   "outputs": [],
   "source": [
    "# #plot changing loss for each epoch\n",
    "# labels = range(1, len(loss_dict[499])+1)\n",
    "# plt.plot(loss_dict.keys(), loss_dict.values(),label = labels)\n",
    "# plt.legend(title = 'epoch')\n",
    "# plt.title('Durchschnittlicher Loss aus 500 Trainingsschritten \\nje Epoche')"
   ]
  },
  {
   "cell_type": "code",
   "execution_count": 18,
   "metadata": {},
   "outputs": [
    {
     "data": {
      "text/plain": [
       "Text(0.5, 1.0, 'Gleitender Durchschnitt des Loss je Epoche')"
      ]
     },
     "execution_count": 18,
     "metadata": {},
     "output_type": "execute_result"
    },
    {
     "data": {
      "image/png": "[encoded data removed]",
      "text/plain": [
       "<Figure size 640x480 with 1 Axes>"
      ]
     },
     "metadata": {},
     "output_type": "display_data"
    }
   ],
   "source": [
    "# Damit Grafik mit jeder Epochenanzahl funktioniert\n",
    "epoch_count = len(loss_list) // 5000  # Ganzzahldivision\n",
    "loss_list_chunked = np.array_split(loss_list, epoch_count)\n",
    "\n",
    "# Transponieren, da über Spalten nicht Zeilen gemittelt werden soll\n",
    "t_average = pd.DataFrame(loss_list_chunked).T.rolling(window=500).mean().T\n",
    "\n",
    "for i in range(epoch_count):\n",
    "    plt.plot(range(1,5001), t_average.iloc[i,:],label = i+1, alpha=0.3)\n",
    "plt.legend(title = 'epoch')\n",
    "plt.title('Gleitender Durchschnitt des Loss je Epoche')"
   ]
  }
 ],
 "metadata": {
  "kernelspec": {
   "display_name": "GINN",
   "language": "python",
   "name": "python3"
  },
  "language_info": {
   "codemirror_mode": {
    "name": "ipython",
    "version": 3
   },
   "file_extension": ".py",
   "mimetype": "text/x-python",
   "name": "python",
   "nbconvert_exporter": "python",
   "pygments_lexer": "ipython3",
   "version": "3.10.14"
  }
 },
 "nbformat": 4,
 "nbformat_minor": 2
}
