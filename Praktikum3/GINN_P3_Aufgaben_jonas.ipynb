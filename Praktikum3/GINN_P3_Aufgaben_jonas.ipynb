{
  "nbformat": 4,
  "nbformat_minor": 0,
  "metadata": {
    "colab": {
      "provenance": [],
      "gpuType": "T4",
      "include_colab_link": true
    },
    "kernelspec": {
      "name": "python3",
      "display_name": "Python 3"
    },
    "language_info": {
      "name": "python"
    },
    "accelerator": "GPU",
    "widgets": {
      "application/vnd.jupyter.widget-state+json": {
        "201c7406473a4ee68f6ed4f4db59f143": {
          "model_module": "@jupyter-widgets/controls",
          "model_name": "VBoxModel",
          "model_module_version": "1.5.0",
          "state": {
            "_dom_classes": [
              "widget-interact"
            ],
            "_model_module": "@jupyter-widgets/controls",
            "_model_module_version": "1.5.0",
            "_model_name": "VBoxModel",
            "_view_count": null,
            "_view_module": "@jupyter-widgets/controls",
            "_view_module_version": "1.5.0",
            "_view_name": "VBoxView",
            "box_style": "",
            "children": [
              "IPY_MODEL_bcc923b8fa2e467cb70911639a3852be",
              "IPY_MODEL_39e0fb7f97f249a1ace72186455e8a2f",
              "IPY_MODEL_52bad19505e94e959ca0e09c919700ab",
              "IPY_MODEL_a793730b793f425abbedea23ec7bd297",
              "IPY_MODEL_eb63bc85ad9245cf8c41d5a760428965",
              "IPY_MODEL_cbb9abacd003470a8c560a524b95d6e4"
            ],
            "layout": "IPY_MODEL_23a3c05f27114b778a8ae9160c7db521"
          }
        },
        "bcc923b8fa2e467cb70911639a3852be": {
          "model_module": "@jupyter-widgets/controls",
          "model_name": "TextModel",
          "model_module_version": "1.5.0",
          "state": {
            "_dom_classes": [],
            "_model_module": "@jupyter-widgets/controls",
            "_model_module_version": "1.5.0",
            "_model_name": "TextModel",
            "_view_count": null,
            "_view_module": "@jupyter-widgets/controls",
            "_view_module_version": "1.5.0",
            "_view_name": "TextView",
            "continuous_update": true,
            "description": "batch_sizes",
            "description_tooltip": null,
            "disabled": false,
            "layout": "IPY_MODEL_14d25e82d4c94a0dbb09319caac5cb25",
            "placeholder": "​",
            "style": "IPY_MODEL_c900076bfc0d486c8f801ecdbe72ef39",
            "value": "1, 20, 500, 17000"
          }
        },
        "39e0fb7f97f249a1ace72186455e8a2f": {
          "model_module": "@jupyter-widgets/controls",
          "model_name": "TextModel",
          "model_module_version": "1.5.0",
          "state": {
            "_dom_classes": [],
            "_model_module": "@jupyter-widgets/controls",
            "_model_module_version": "1.5.0",
            "_model_name": "TextModel",
            "_view_count": null,
            "_view_module": "@jupyter-widgets/controls",
            "_view_module_version": "1.5.0",
            "_view_name": "TextView",
            "continuous_update": true,
            "description": "lrs",
            "description_tooltip": null,
            "disabled": false,
            "layout": "IPY_MODEL_25dabb22cc9c490bb81efc2a2b603288",
            "placeholder": "​",
            "style": "IPY_MODEL_eceb3411f2904ef09c9426d626a0d9a8",
            "value": "0.9, 0.9, 0.9, 0.9"
          }
        },
        "52bad19505e94e959ca0e09c919700ab": {
          "model_module": "@jupyter-widgets/controls",
          "model_name": "DropdownModel",
          "model_module_version": "1.5.0",
          "state": {
            "_dom_classes": [],
            "_model_module": "@jupyter-widgets/controls",
            "_model_module_version": "1.5.0",
            "_model_name": "DropdownModel",
            "_options_labels": [
              "0.05",
              "0.5",
              "2.0",
              "5.0",
              "7.5"
            ],
            "_view_count": null,
            "_view_module": "@jupyter-widgets/controls",
            "_view_module_version": "1.5.0",
            "_view_name": "DropdownView",
            "description": "time_budget",
            "description_tooltip": null,
            "disabled": false,
            "index": 4,
            "layout": "IPY_MODEL_95dc268110da4b9299ba3eb5bd5584cf",
            "style": "IPY_MODEL_66bbda77ebae4260a03a25e8e60faef0"
          }
        },
        "a793730b793f425abbedea23ec7bd297": {
          "model_module": "@jupyter-widgets/controls",
          "model_name": "ToggleButtonModel",
          "model_module_version": "1.5.0",
          "state": {
            "_dom_classes": [],
            "_model_module": "@jupyter-widgets/controls",
            "_model_module_version": "1.5.0",
            "_model_name": "ToggleButtonModel",
            "_view_count": null,
            "_view_module": "@jupyter-widgets/controls",
            "_view_module_version": "1.5.0",
            "_view_name": "ToggleButtonView",
            "button_style": "",
            "description": "use_momentum",
            "description_tooltip": null,
            "disabled": false,
            "icon": "",
            "layout": "IPY_MODEL_1fc367d73eea4dfa81ed414d48a5148b",
            "style": "IPY_MODEL_3bd1e42990604e15b9aefc612f1149cb",
            "tooltip": "",
            "value": false
          }
        },
        "eb63bc85ad9245cf8c41d5a760428965": {
          "model_module": "@jupyter-widgets/controls",
          "model_name": "ButtonModel",
          "model_module_version": "1.5.0",
          "state": {
            "_dom_classes": [],
            "_model_module": "@jupyter-widgets/controls",
            "_model_module_version": "1.5.0",
            "_model_name": "ButtonModel",
            "_view_count": null,
            "_view_module": "@jupyter-widgets/controls",
            "_view_module_version": "1.5.0",
            "_view_name": "ButtonView",
            "button_style": "",
            "description": "Run Interact",
            "disabled": false,
            "icon": "",
            "layout": "IPY_MODEL_3c714f61dad740a98556397e695249f8",
            "style": "IPY_MODEL_8817eff9efbd4120a7c87ff61ffaa76c",
            "tooltip": ""
          }
        },
        "cbb9abacd003470a8c560a524b95d6e4": {
          "model_module": "@jupyter-widgets/output",
          "model_name": "OutputModel",
          "model_module_version": "1.0.0",
          "state": {
            "_dom_classes": [],
            "_model_module": "@jupyter-widgets/output",
            "_model_module_version": "1.0.0",
            "_model_name": "OutputModel",
            "_view_count": null,
            "_view_module": "@jupyter-widgets/output",
            "_view_module_version": "1.0.0",
            "_view_name": "OutputView",
            "layout": "IPY_MODEL_c7fa6407cd5641c68a907472bc5250b4",
            "msg_id": "",
            "outputs": [
              {
                "output_type": "display_data",
                "data": {
                  "text/plain": "  0%|          | 0/4 [00:00<?, ?it/s]",
                  "application/vnd.jupyter.widget-view+json": {
                    "version_major": 2,
                    "version_minor": 0,
                    "model_id": "b99fb8a63d624356ba4209676c7a9f1b"
                  }
                },
                "metadata": {}
              },
              {
                "output_type": "display_data",
                "data": {
                  "text/plain": "<Figure size 1000x300 with 4 Axes>",
                  "image/png": "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\n"
                },
                "metadata": {}
              }
            ]
          }
        },
        "23a3c05f27114b778a8ae9160c7db521": {
          "model_module": "@jupyter-widgets/base",
          "model_name": "LayoutModel",
          "model_module_version": "1.2.0",
          "state": {
            "_model_module": "@jupyter-widgets/base",
            "_model_module_version": "1.2.0",
            "_model_name": "LayoutModel",
            "_view_count": null,
            "_view_module": "@jupyter-widgets/base",
            "_view_module_version": "1.2.0",
            "_view_name": "LayoutView",
            "align_content": null,
            "align_items": null,
            "align_self": null,
            "border": null,
            "bottom": null,
            "display": null,
            "flex": null,
            "flex_flow": null,
            "grid_area": null,
            "grid_auto_columns": null,
            "grid_auto_flow": null,
            "grid_auto_rows": null,
            "grid_column": null,
            "grid_gap": null,
            "grid_row": null,
            "grid_template_areas": null,
            "grid_template_columns": null,
            "grid_template_rows": null,
            "height": null,
            "justify_content": null,
            "justify_items": null,
            "left": null,
            "margin": null,
            "max_height": null,
            "max_width": null,
            "min_height": null,
            "min_width": null,
            "object_fit": null,
            "object_position": null,
            "order": null,
            "overflow": null,
            "overflow_x": null,
            "overflow_y": null,
            "padding": null,
            "right": null,
            "top": null,
            "visibility": null,
            "width": null
          }
        },
        "14d25e82d4c94a0dbb09319caac5cb25": {
          "model_module": "@jupyter-widgets/base",
          "model_name": "LayoutModel",
          "model_module_version": "1.2.0",
          "state": {
            "_model_module": "@jupyter-widgets/base",
            "_model_module_version": "1.2.0",
            "_model_name": "LayoutModel",
            "_view_count": null,
            "_view_module": "@jupyter-widgets/base",
            "_view_module_version": "1.2.0",
            "_view_name": "LayoutView",
            "align_content": null,
            "align_items": null,
            "align_self": null,
            "border": null,
            "bottom": null,
            "display": null,
            "flex": null,
            "flex_flow": null,
            "grid_area": null,
            "grid_auto_columns": null,
            "grid_auto_flow": null,
            "grid_auto_rows": null,
            "grid_column": null,
            "grid_gap": null,
            "grid_row": null,
            "grid_template_areas": null,
            "grid_template_columns": null,
            "grid_template_rows": null,
            "height": null,
            "justify_content": null,
            "justify_items": null,
            "left": null,
            "margin": null,
            "max_height": null,
            "max_width": null,
            "min_height": null,
            "min_width": null,
            "object_fit": null,
            "object_position": null,
            "order": null,
            "overflow": null,
            "overflow_x": null,
            "overflow_y": null,
            "padding": null,
            "right": null,
            "top": null,
            "visibility": null,
            "width": null
          }
        },
        "c900076bfc0d486c8f801ecdbe72ef39": {
          "model_module": "@jupyter-widgets/controls",
          "model_name": "DescriptionStyleModel",
          "model_module_version": "1.5.0",
          "state": {
            "_model_module": "@jupyter-widgets/controls",
            "_model_module_version": "1.5.0",
            "_model_name": "DescriptionStyleModel",
            "_view_count": null,
            "_view_module": "@jupyter-widgets/base",
            "_view_module_version": "1.2.0",
            "_view_name": "StyleView",
            "description_width": ""
          }
        },
        "25dabb22cc9c490bb81efc2a2b603288": {
          "model_module": "@jupyter-widgets/base",
          "model_name": "LayoutModel",
          "model_module_version": "1.2.0",
          "state": {
            "_model_module": "@jupyter-widgets/base",
            "_model_module_version": "1.2.0",
            "_model_name": "LayoutModel",
            "_view_count": null,
            "_view_module": "@jupyter-widgets/base",
            "_view_module_version": "1.2.0",
            "_view_name": "LayoutView",
            "align_content": null,
            "align_items": null,
            "align_self": null,
            "border": null,
            "bottom": null,
            "display": null,
            "flex": null,
            "flex_flow": null,
            "grid_area": null,
            "grid_auto_columns": null,
            "grid_auto_flow": null,
            "grid_auto_rows": null,
            "grid_column": null,
            "grid_gap": null,
            "grid_row": null,
            "grid_template_areas": null,
            "grid_template_columns": null,
            "grid_template_rows": null,
            "height": null,
            "justify_content": null,
            "justify_items": null,
            "left": null,
            "margin": null,
            "max_height": null,
            "max_width": null,
            "min_height": null,
            "min_width": null,
            "object_fit": null,
            "object_position": null,
            "order": null,
            "overflow": null,
            "overflow_x": null,
            "overflow_y": null,
            "padding": null,
            "right": null,
            "top": null,
            "visibility": null,
            "width": null
          }
        },
        "eceb3411f2904ef09c9426d626a0d9a8": {
          "model_module": "@jupyter-widgets/controls",
          "model_name": "DescriptionStyleModel",
          "model_module_version": "1.5.0",
          "state": {
            "_model_module": "@jupyter-widgets/controls",
            "_model_module_version": "1.5.0",
            "_model_name": "DescriptionStyleModel",
            "_view_count": null,
            "_view_module": "@jupyter-widgets/base",
            "_view_module_version": "1.2.0",
            "_view_name": "StyleView",
            "description_width": ""
          }
        },
        "95dc268110da4b9299ba3eb5bd5584cf": {
          "model_module": "@jupyter-widgets/base",
          "model_name": "LayoutModel",
          "model_module_version": "1.2.0",
          "state": {
            "_model_module": "@jupyter-widgets/base",
            "_model_module_version": "1.2.0",
            "_model_name": "LayoutModel",
            "_view_count": null,
            "_view_module": "@jupyter-widgets/base",
            "_view_module_version": "1.2.0",
            "_view_name": "LayoutView",
            "align_content": null,
            "align_items": null,
            "align_self": null,
            "border": null,
            "bottom": null,
            "display": null,
            "flex": null,
            "flex_flow": null,
            "grid_area": null,
            "grid_auto_columns": null,
            "grid_auto_flow": null,
            "grid_auto_rows": null,
            "grid_column": null,
            "grid_gap": null,
            "grid_row": null,
            "grid_template_areas": null,
            "grid_template_columns": null,
            "grid_template_rows": null,
            "height": null,
            "justify_content": null,
            "justify_items": null,
            "left": null,
            "margin": null,
            "max_height": null,
            "max_width": null,
            "min_height": null,
            "min_width": null,
            "object_fit": null,
            "object_position": null,
            "order": null,
            "overflow": null,
            "overflow_x": null,
            "overflow_y": null,
            "padding": null,
            "right": null,
            "top": null,
            "visibility": null,
            "width": null
          }
        },
        "66bbda77ebae4260a03a25e8e60faef0": {
          "model_module": "@jupyter-widgets/controls",
          "model_name": "DescriptionStyleModel",
          "model_module_version": "1.5.0",
          "state": {
            "_model_module": "@jupyter-widgets/controls",
            "_model_module_version": "1.5.0",
            "_model_name": "DescriptionStyleModel",
            "_view_count": null,
            "_view_module": "@jupyter-widgets/base",
            "_view_module_version": "1.2.0",
            "_view_name": "StyleView",
            "description_width": ""
          }
        },
        "1fc367d73eea4dfa81ed414d48a5148b": {
          "model_module": "@jupyter-widgets/base",
          "model_name": "LayoutModel",
          "model_module_version": "1.2.0",
          "state": {
            "_model_module": "@jupyter-widgets/base",
            "_model_module_version": "1.2.0",
            "_model_name": "LayoutModel",
            "_view_count": null,
            "_view_module": "@jupyter-widgets/base",
            "_view_module_version": "1.2.0",
            "_view_name": "LayoutView",
            "align_content": null,
            "align_items": null,
            "align_self": null,
            "border": null,
            "bottom": null,
            "display": null,
            "flex": null,
            "flex_flow": null,
            "grid_area": null,
            "grid_auto_columns": null,
            "grid_auto_flow": null,
            "grid_auto_rows": null,
            "grid_column": null,
            "grid_gap": null,
            "grid_row": null,
            "grid_template_areas": null,
            "grid_template_columns": null,
            "grid_template_rows": null,
            "height": null,
            "justify_content": null,
            "justify_items": null,
            "left": null,
            "margin": null,
            "max_height": null,
            "max_width": null,
            "min_height": null,
            "min_width": null,
            "object_fit": null,
            "object_position": null,
            "order": null,
            "overflow": null,
            "overflow_x": null,
            "overflow_y": null,
            "padding": null,
            "right": null,
            "top": null,
            "visibility": null,
            "width": null
          }
        },
        "3bd1e42990604e15b9aefc612f1149cb": {
          "model_module": "@jupyter-widgets/controls",
          "model_name": "DescriptionStyleModel",
          "model_module_version": "1.5.0",
          "state": {
            "_model_module": "@jupyter-widgets/controls",
            "_model_module_version": "1.5.0",
            "_model_name": "DescriptionStyleModel",
            "_view_count": null,
            "_view_module": "@jupyter-widgets/base",
            "_view_module_version": "1.2.0",
            "_view_name": "StyleView",
            "description_width": ""
          }
        },
        "3c714f61dad740a98556397e695249f8": {
          "model_module": "@jupyter-widgets/base",
          "model_name": "LayoutModel",
          "model_module_version": "1.2.0",
          "state": {
            "_model_module": "@jupyter-widgets/base",
            "_model_module_version": "1.2.0",
            "_model_name": "LayoutModel",
            "_view_count": null,
            "_view_module": "@jupyter-widgets/base",
            "_view_module_version": "1.2.0",
            "_view_name": "LayoutView",
            "align_content": null,
            "align_items": null,
            "align_self": null,
            "border": null,
            "bottom": null,
            "display": null,
            "flex": null,
            "flex_flow": null,
            "grid_area": null,
            "grid_auto_columns": null,
            "grid_auto_flow": null,
            "grid_auto_rows": null,
            "grid_column": null,
            "grid_gap": null,
            "grid_row": null,
            "grid_template_areas": null,
            "grid_template_columns": null,
            "grid_template_rows": null,
            "height": null,
            "justify_content": null,
            "justify_items": null,
            "left": null,
            "margin": null,
            "max_height": null,
            "max_width": null,
            "min_height": null,
            "min_width": null,
            "object_fit": null,
            "object_position": null,
            "order": null,
            "overflow": null,
            "overflow_x": null,
            "overflow_y": null,
            "padding": null,
            "right": null,
            "top": null,
            "visibility": null,
            "width": null
          }
        },
        "8817eff9efbd4120a7c87ff61ffaa76c": {
          "model_module": "@jupyter-widgets/controls",
          "model_name": "ButtonStyleModel",
          "model_module_version": "1.5.0",
          "state": {
            "_model_module": "@jupyter-widgets/controls",
            "_model_module_version": "1.5.0",
            "_model_name": "ButtonStyleModel",
            "_view_count": null,
            "_view_module": "@jupyter-widgets/base",
            "_view_module_version": "1.2.0",
            "_view_name": "StyleView",
            "button_color": null,
            "font_weight": ""
          }
        },
        "c7fa6407cd5641c68a907472bc5250b4": {
          "model_module": "@jupyter-widgets/base",
          "model_name": "LayoutModel",
          "model_module_version": "1.2.0",
          "state": {
            "_model_module": "@jupyter-widgets/base",
            "_model_module_version": "1.2.0",
            "_model_name": "LayoutModel",
            "_view_count": null,
            "_view_module": "@jupyter-widgets/base",
            "_view_module_version": "1.2.0",
            "_view_name": "LayoutView",
            "align_content": null,
            "align_items": null,
            "align_self": null,
            "border": null,
            "bottom": null,
            "display": null,
            "flex": null,
            "flex_flow": null,
            "grid_area": null,
            "grid_auto_columns": null,
            "grid_auto_flow": null,
            "grid_auto_rows": null,
            "grid_column": null,
            "grid_gap": null,
            "grid_row": null,
            "grid_template_areas": null,
            "grid_template_columns": null,
            "grid_template_rows": null,
            "height": null,
            "justify_content": null,
            "justify_items": null,
            "left": null,
            "margin": null,
            "max_height": null,
            "max_width": null,
            "min_height": null,
            "min_width": null,
            "object_fit": null,
            "object_position": null,
            "order": null,
            "overflow": null,
            "overflow_x": null,
            "overflow_y": null,
            "padding": null,
            "right": null,
            "top": null,
            "visibility": null,
            "width": null
          }
        },
        "abbd57abc40c4c98a4fa0f083955e06a": {
          "model_module": "@jupyter-widgets/controls",
          "model_name": "HBoxModel",
          "model_module_version": "1.5.0",
          "state": {
            "_dom_classes": [],
            "_model_module": "@jupyter-widgets/controls",
            "_model_module_version": "1.5.0",
            "_model_name": "HBoxModel",
            "_view_count": null,
            "_view_module": "@jupyter-widgets/controls",
            "_view_module_version": "1.5.0",
            "_view_name": "HBoxView",
            "box_style": "",
            "children": [
              "IPY_MODEL_f3567c99f89f4d0fbff6dd7bdc7e2e62",
              "IPY_MODEL_19a98ac619d9433b9e2586c9e9d9e4da",
              "IPY_MODEL_dd33ee1d0be149a7b08520df20adcbe9"
            ],
            "layout": "IPY_MODEL_d4a92de717c24a2cb8eda170280107b8"
          }
        },
        "f3567c99f89f4d0fbff6dd7bdc7e2e62": {
          "model_module": "@jupyter-widgets/controls",
          "model_name": "HTMLModel",
          "model_module_version": "1.5.0",
          "state": {
            "_dom_classes": [],
            "_model_module": "@jupyter-widgets/controls",
            "_model_module_version": "1.5.0",
            "_model_name": "HTMLModel",
            "_view_count": null,
            "_view_module": "@jupyter-widgets/controls",
            "_view_module_version": "1.5.0",
            "_view_name": "HTMLView",
            "description": "",
            "description_tooltip": null,
            "layout": "IPY_MODEL_58db3aca474b44aba7abfd4f62a46560",
            "placeholder": "​",
            "style": "IPY_MODEL_ac8d1157da8a4a53b12f03e6c537819a",
            "value": "100%"
          }
        },
        "19a98ac619d9433b9e2586c9e9d9e4da": {
          "model_module": "@jupyter-widgets/controls",
          "model_name": "FloatProgressModel",
          "model_module_version": "1.5.0",
          "state": {
            "_dom_classes": [],
            "_model_module": "@jupyter-widgets/controls",
            "_model_module_version": "1.5.0",
            "_model_name": "FloatProgressModel",
            "_view_count": null,
            "_view_module": "@jupyter-widgets/controls",
            "_view_module_version": "1.5.0",
            "_view_name": "ProgressView",
            "bar_style": "success",
            "description": "",
            "description_tooltip": null,
            "layout": "IPY_MODEL_74b4eb86c4fc497aba5ffb63a20ea967",
            "max": 4,
            "min": 0,
            "orientation": "horizontal",
            "style": "IPY_MODEL_c58a0a962760417291f315a410e8d0cc",
            "value": 4
          }
        },
        "dd33ee1d0be149a7b08520df20adcbe9": {
          "model_module": "@jupyter-widgets/controls",
          "model_name": "HTMLModel",
          "model_module_version": "1.5.0",
          "state": {
            "_dom_classes": [],
            "_model_module": "@jupyter-widgets/controls",
            "_model_module_version": "1.5.0",
            "_model_name": "HTMLModel",
            "_view_count": null,
            "_view_module": "@jupyter-widgets/controls",
            "_view_module_version": "1.5.0",
            "_view_name": "HTMLView",
            "description": "",
            "description_tooltip": null,
            "layout": "IPY_MODEL_06033e35c1134eabbe77ed57e3236e80",
            "placeholder": "​",
            "style": "IPY_MODEL_433590584d844c64ac03031c32d64788",
            "value": " 4/4 [00:30&lt;00:00,  7.50s/it]"
          }
        },
        "d4a92de717c24a2cb8eda170280107b8": {
          "model_module": "@jupyter-widgets/base",
          "model_name": "LayoutModel",
          "model_module_version": "1.2.0",
          "state": {
            "_model_module": "@jupyter-widgets/base",
            "_model_module_version": "1.2.0",
            "_model_name": "LayoutModel",
            "_view_count": null,
            "_view_module": "@jupyter-widgets/base",
            "_view_module_version": "1.2.0",
            "_view_name": "LayoutView",
            "align_content": null,
            "align_items": null,
            "align_self": null,
            "border": null,
            "bottom": null,
            "display": null,
            "flex": null,
            "flex_flow": null,
            "grid_area": null,
            "grid_auto_columns": null,
            "grid_auto_flow": null,
            "grid_auto_rows": null,
            "grid_column": null,
            "grid_gap": null,
            "grid_row": null,
            "grid_template_areas": null,
            "grid_template_columns": null,
            "grid_template_rows": null,
            "height": null,
            "justify_content": null,
            "justify_items": null,
            "left": null,
            "margin": null,
            "max_height": null,
            "max_width": null,
            "min_height": null,
            "min_width": null,
            "object_fit": null,
            "object_position": null,
            "order": null,
            "overflow": null,
            "overflow_x": null,
            "overflow_y": null,
            "padding": null,
            "right": null,
            "top": null,
            "visibility": null,
            "width": null
          }
        },
        "58db3aca474b44aba7abfd4f62a46560": {
          "model_module": "@jupyter-widgets/base",
          "model_name": "LayoutModel",
          "model_module_version": "1.2.0",
          "state": {
            "_model_module": "@jupyter-widgets/base",
            "_model_module_version": "1.2.0",
            "_model_name": "LayoutModel",
            "_view_count": null,
            "_view_module": "@jupyter-widgets/base",
            "_view_module_version": "1.2.0",
            "_view_name": "LayoutView",
            "align_content": null,
            "align_items": null,
            "align_self": null,
            "border": null,
            "bottom": null,
            "display": null,
            "flex": null,
            "flex_flow": null,
            "grid_area": null,
            "grid_auto_columns": null,
            "grid_auto_flow": null,
            "grid_auto_rows": null,
            "grid_column": null,
            "grid_gap": null,
            "grid_row": null,
            "grid_template_areas": null,
            "grid_template_columns": null,
            "grid_template_rows": null,
            "height": null,
            "justify_content": null,
            "justify_items": null,
            "left": null,
            "margin": null,
            "max_height": null,
            "max_width": null,
            "min_height": null,
            "min_width": null,
            "object_fit": null,
            "object_position": null,
            "order": null,
            "overflow": null,
            "overflow_x": null,
            "overflow_y": null,
            "padding": null,
            "right": null,
            "top": null,
            "visibility": null,
            "width": null
          }
        },
        "ac8d1157da8a4a53b12f03e6c537819a": {
          "model_module": "@jupyter-widgets/controls",
          "model_name": "DescriptionStyleModel",
          "model_module_version": "1.5.0",
          "state": {
            "_model_module": "@jupyter-widgets/controls",
            "_model_module_version": "1.5.0",
            "_model_name": "DescriptionStyleModel",
            "_view_count": null,
            "_view_module": "@jupyter-widgets/base",
            "_view_module_version": "1.2.0",
            "_view_name": "StyleView",
            "description_width": ""
          }
        },
        "74b4eb86c4fc497aba5ffb63a20ea967": {
          "model_module": "@jupyter-widgets/base",
          "model_name": "LayoutModel",
          "model_module_version": "1.2.0",
          "state": {
            "_model_module": "@jupyter-widgets/base",
            "_model_module_version": "1.2.0",
            "_model_name": "LayoutModel",
            "_view_count": null,
            "_view_module": "@jupyter-widgets/base",
            "_view_module_version": "1.2.0",
            "_view_name": "LayoutView",
            "align_content": null,
            "align_items": null,
            "align_self": null,
            "border": null,
            "bottom": null,
            "display": null,
            "flex": null,
            "flex_flow": null,
            "grid_area": null,
            "grid_auto_columns": null,
            "grid_auto_flow": null,
            "grid_auto_rows": null,
            "grid_column": null,
            "grid_gap": null,
            "grid_row": null,
            "grid_template_areas": null,
            "grid_template_columns": null,
            "grid_template_rows": null,
            "height": null,
            "justify_content": null,
            "justify_items": null,
            "left": null,
            "margin": null,
            "max_height": null,
            "max_width": null,
            "min_height": null,
            "min_width": null,
            "object_fit": null,
            "object_position": null,
            "order": null,
            "overflow": null,
            "overflow_x": null,
            "overflow_y": null,
            "padding": null,
            "right": null,
            "top": null,
            "visibility": null,
            "width": null
          }
        },
        "c58a0a962760417291f315a410e8d0cc": {
          "model_module": "@jupyter-widgets/controls",
          "model_name": "ProgressStyleModel",
          "model_module_version": "1.5.0",
          "state": {
            "_model_module": "@jupyter-widgets/controls",
            "_model_module_version": "1.5.0",
            "_model_name": "ProgressStyleModel",
            "_view_count": null,
            "_view_module": "@jupyter-widgets/base",
            "_view_module_version": "1.2.0",
            "_view_name": "StyleView",
            "bar_color": null,
            "description_width": ""
          }
        },
        "06033e35c1134eabbe77ed57e3236e80": {
          "model_module": "@jupyter-widgets/base",
          "model_name": "LayoutModel",
          "model_module_version": "1.2.0",
          "state": {
            "_model_module": "@jupyter-widgets/base",
            "_model_module_version": "1.2.0",
            "_model_name": "LayoutModel",
            "_view_count": null,
            "_view_module": "@jupyter-widgets/base",
            "_view_module_version": "1.2.0",
            "_view_name": "LayoutView",
            "align_content": null,
            "align_items": null,
            "align_self": null,
            "border": null,
            "bottom": null,
            "display": null,
            "flex": null,
            "flex_flow": null,
            "grid_area": null,
            "grid_auto_columns": null,
            "grid_auto_flow": null,
            "grid_auto_rows": null,
            "grid_column": null,
            "grid_gap": null,
            "grid_row": null,
            "grid_template_areas": null,
            "grid_template_columns": null,
            "grid_template_rows": null,
            "height": null,
            "justify_content": null,
            "justify_items": null,
            "left": null,
            "margin": null,
            "max_height": null,
            "max_width": null,
            "min_height": null,
            "min_width": null,
            "object_fit": null,
            "object_position": null,
            "order": null,
            "overflow": null,
            "overflow_x": null,
            "overflow_y": null,
            "padding": null,
            "right": null,
            "top": null,
            "visibility": null,
            "width": null
          }
        },
        "433590584d844c64ac03031c32d64788": {
          "model_module": "@jupyter-widgets/controls",
          "model_name": "DescriptionStyleModel",
          "model_module_version": "1.5.0",
          "state": {
            "_model_module": "@jupyter-widgets/controls",
            "_model_module_version": "1.5.0",
            "_model_name": "DescriptionStyleModel",
            "_view_count": null,
            "_view_module": "@jupyter-widgets/base",
            "_view_module_version": "1.2.0",
            "_view_name": "StyleView",
            "description_width": ""
          }
        },
        "d66a2827787e436fb9aa38ea0972e6dc": {
          "model_module": "@jupyter-widgets/controls",
          "model_name": "HBoxModel",
          "model_module_version": "1.5.0",
          "state": {
            "_dom_classes": [],
            "_model_module": "@jupyter-widgets/controls",
            "_model_module_version": "1.5.0",
            "_model_name": "HBoxModel",
            "_view_count": null,
            "_view_module": "@jupyter-widgets/controls",
            "_view_module_version": "1.5.0",
            "_view_name": "HBoxView",
            "box_style": "",
            "children": [
              "IPY_MODEL_d02cf2f27a55444abd7b8756a67bd36c",
              "IPY_MODEL_032b8a5b5c4244fab628589b2ebb9048",
              "IPY_MODEL_9a7d727cb65e4703a7c4af79e55fe60e"
            ],
            "layout": "IPY_MODEL_0c0d9a34cf9d4636b34c9fc7d5660d46"
          }
        },
        "d02cf2f27a55444abd7b8756a67bd36c": {
          "model_module": "@jupyter-widgets/controls",
          "model_name": "HTMLModel",
          "model_module_version": "1.5.0",
          "state": {
            "_dom_classes": [],
            "_model_module": "@jupyter-widgets/controls",
            "_model_module_version": "1.5.0",
            "_model_name": "HTMLModel",
            "_view_count": null,
            "_view_module": "@jupyter-widgets/controls",
            "_view_module_version": "1.5.0",
            "_view_name": "HTMLView",
            "description": "",
            "description_tooltip": null,
            "layout": "IPY_MODEL_e134e07c2ab34b0c9916f43c33daa29c",
            "placeholder": "​",
            "style": "IPY_MODEL_02a054da5c4d4d929451f59720b2b8b3",
            "value": "100%"
          }
        },
        "032b8a5b5c4244fab628589b2ebb9048": {
          "model_module": "@jupyter-widgets/controls",
          "model_name": "FloatProgressModel",
          "model_module_version": "1.5.0",
          "state": {
            "_dom_classes": [],
            "_model_module": "@jupyter-widgets/controls",
            "_model_module_version": "1.5.0",
            "_model_name": "FloatProgressModel",
            "_view_count": null,
            "_view_module": "@jupyter-widgets/controls",
            "_view_module_version": "1.5.0",
            "_view_name": "ProgressView",
            "bar_style": "success",
            "description": "",
            "description_tooltip": null,
            "layout": "IPY_MODEL_9d6b8aa9f7904fe79e8b9c2c51c65763",
            "max": 4,
            "min": 0,
            "orientation": "horizontal",
            "style": "IPY_MODEL_6cbc3b42872a4d72838d5b7063fa88d2",
            "value": 4
          }
        },
        "9a7d727cb65e4703a7c4af79e55fe60e": {
          "model_module": "@jupyter-widgets/controls",
          "model_name": "HTMLModel",
          "model_module_version": "1.5.0",
          "state": {
            "_dom_classes": [],
            "_model_module": "@jupyter-widgets/controls",
            "_model_module_version": "1.5.0",
            "_model_name": "HTMLModel",
            "_view_count": null,
            "_view_module": "@jupyter-widgets/controls",
            "_view_module_version": "1.5.0",
            "_view_name": "HTMLView",
            "description": "",
            "description_tooltip": null,
            "layout": "IPY_MODEL_75dadff328f14e49b3b923c9131f6396",
            "placeholder": "​",
            "style": "IPY_MODEL_e4dff969a48b4a35a37b04890f131930",
            "value": " 4/4 [00:30&lt;00:00,  7.51s/it]"
          }
        },
        "0c0d9a34cf9d4636b34c9fc7d5660d46": {
          "model_module": "@jupyter-widgets/base",
          "model_name": "LayoutModel",
          "model_module_version": "1.2.0",
          "state": {
            "_model_module": "@jupyter-widgets/base",
            "_model_module_version": "1.2.0",
            "_model_name": "LayoutModel",
            "_view_count": null,
            "_view_module": "@jupyter-widgets/base",
            "_view_module_version": "1.2.0",
            "_view_name": "LayoutView",
            "align_content": null,
            "align_items": null,
            "align_self": null,
            "border": null,
            "bottom": null,
            "display": null,
            "flex": null,
            "flex_flow": null,
            "grid_area": null,
            "grid_auto_columns": null,
            "grid_auto_flow": null,
            "grid_auto_rows": null,
            "grid_column": null,
            "grid_gap": null,
            "grid_row": null,
            "grid_template_areas": null,
            "grid_template_columns": null,
            "grid_template_rows": null,
            "height": null,
            "justify_content": null,
            "justify_items": null,
            "left": null,
            "margin": null,
            "max_height": null,
            "max_width": null,
            "min_height": null,
            "min_width": null,
            "object_fit": null,
            "object_position": null,
            "order": null,
            "overflow": null,
            "overflow_x": null,
            "overflow_y": null,
            "padding": null,
            "right": null,
            "top": null,
            "visibility": null,
            "width": null
          }
        },
        "e134e07c2ab34b0c9916f43c33daa29c": {
          "model_module": "@jupyter-widgets/base",
          "model_name": "LayoutModel",
          "model_module_version": "1.2.0",
          "state": {
            "_model_module": "@jupyter-widgets/base",
            "_model_module_version": "1.2.0",
            "_model_name": "LayoutModel",
            "_view_count": null,
            "_view_module": "@jupyter-widgets/base",
            "_view_module_version": "1.2.0",
            "_view_name": "LayoutView",
            "align_content": null,
            "align_items": null,
            "align_self": null,
            "border": null,
            "bottom": null,
            "display": null,
            "flex": null,
            "flex_flow": null,
            "grid_area": null,
            "grid_auto_columns": null,
            "grid_auto_flow": null,
            "grid_auto_rows": null,
            "grid_column": null,
            "grid_gap": null,
            "grid_row": null,
            "grid_template_areas": null,
            "grid_template_columns": null,
            "grid_template_rows": null,
            "height": null,
            "justify_content": null,
            "justify_items": null,
            "left": null,
            "margin": null,
            "max_height": null,
            "max_width": null,
            "min_height": null,
            "min_width": null,
            "object_fit": null,
            "object_position": null,
            "order": null,
            "overflow": null,
            "overflow_x": null,
            "overflow_y": null,
            "padding": null,
            "right": null,
            "top": null,
            "visibility": null,
            "width": null
          }
        },
        "02a054da5c4d4d929451f59720b2b8b3": {
          "model_module": "@jupyter-widgets/controls",
          "model_name": "DescriptionStyleModel",
          "model_module_version": "1.5.0",
          "state": {
            "_model_module": "@jupyter-widgets/controls",
            "_model_module_version": "1.5.0",
            "_model_name": "DescriptionStyleModel",
            "_view_count": null,
            "_view_module": "@jupyter-widgets/base",
            "_view_module_version": "1.2.0",
            "_view_name": "StyleView",
            "description_width": ""
          }
        },
        "9d6b8aa9f7904fe79e8b9c2c51c65763": {
          "model_module": "@jupyter-widgets/base",
          "model_name": "LayoutModel",
          "model_module_version": "1.2.0",
          "state": {
            "_model_module": "@jupyter-widgets/base",
            "_model_module_version": "1.2.0",
            "_model_name": "LayoutModel",
            "_view_count": null,
            "_view_module": "@jupyter-widgets/base",
            "_view_module_version": "1.2.0",
            "_view_name": "LayoutView",
            "align_content": null,
            "align_items": null,
            "align_self": null,
            "border": null,
            "bottom": null,
            "display": null,
            "flex": null,
            "flex_flow": null,
            "grid_area": null,
            "grid_auto_columns": null,
            "grid_auto_flow": null,
            "grid_auto_rows": null,
            "grid_column": null,
            "grid_gap": null,
            "grid_row": null,
            "grid_template_areas": null,
            "grid_template_columns": null,
            "grid_template_rows": null,
            "height": null,
            "justify_content": null,
            "justify_items": null,
            "left": null,
            "margin": null,
            "max_height": null,
            "max_width": null,
            "min_height": null,
            "min_width": null,
            "object_fit": null,
            "object_position": null,
            "order": null,
            "overflow": null,
            "overflow_x": null,
            "overflow_y": null,
            "padding": null,
            "right": null,
            "top": null,
            "visibility": null,
            "width": null
          }
        },
        "6cbc3b42872a4d72838d5b7063fa88d2": {
          "model_module": "@jupyter-widgets/controls",
          "model_name": "ProgressStyleModel",
          "model_module_version": "1.5.0",
          "state": {
            "_model_module": "@jupyter-widgets/controls",
            "_model_module_version": "1.5.0",
            "_model_name": "ProgressStyleModel",
            "_view_count": null,
            "_view_module": "@jupyter-widgets/base",
            "_view_module_version": "1.2.0",
            "_view_name": "StyleView",
            "bar_color": null,
            "description_width": ""
          }
        },
        "75dadff328f14e49b3b923c9131f6396": {
          "model_module": "@jupyter-widgets/base",
          "model_name": "LayoutModel",
          "model_module_version": "1.2.0",
          "state": {
            "_model_module": "@jupyter-widgets/base",
            "_model_module_version": "1.2.0",
            "_model_name": "LayoutModel",
            "_view_count": null,
            "_view_module": "@jupyter-widgets/base",
            "_view_module_version": "1.2.0",
            "_view_name": "LayoutView",
            "align_content": null,
            "align_items": null,
            "align_self": null,
            "border": null,
            "bottom": null,
            "display": null,
            "flex": null,
            "flex_flow": null,
            "grid_area": null,
            "grid_auto_columns": null,
            "grid_auto_flow": null,
            "grid_auto_rows": null,
            "grid_column": null,
            "grid_gap": null,
            "grid_row": null,
            "grid_template_areas": null,
            "grid_template_columns": null,
            "grid_template_rows": null,
            "height": null,
            "justify_content": null,
            "justify_items": null,
            "left": null,
            "margin": null,
            "max_height": null,
            "max_width": null,
            "min_height": null,
            "min_width": null,
            "object_fit": null,
            "object_position": null,
            "order": null,
            "overflow": null,
            "overflow_x": null,
            "overflow_y": null,
            "padding": null,
            "right": null,
            "top": null,
            "visibility": null,
            "width": null
          }
        },
        "e4dff969a48b4a35a37b04890f131930": {
          "model_module": "@jupyter-widgets/controls",
          "model_name": "DescriptionStyleModel",
          "model_module_version": "1.5.0",
          "state": {
            "_model_module": "@jupyter-widgets/controls",
            "_model_module_version": "1.5.0",
            "_model_name": "DescriptionStyleModel",
            "_view_count": null,
            "_view_module": "@jupyter-widgets/base",
            "_view_module_version": "1.2.0",
            "_view_name": "StyleView",
            "description_width": ""
          }
        },
        "b99fb8a63d624356ba4209676c7a9f1b": {
          "model_module": "@jupyter-widgets/controls",
          "model_name": "HBoxModel",
          "model_module_version": "1.5.0",
          "state": {
            "_dom_classes": [],
            "_model_module": "@jupyter-widgets/controls",
            "_model_module_version": "1.5.0",
            "_model_name": "HBoxModel",
            "_view_count": null,
            "_view_module": "@jupyter-widgets/controls",
            "_view_module_version": "1.5.0",
            "_view_name": "HBoxView",
            "box_style": "",
            "children": [
              "IPY_MODEL_a94d9a062cbc420c8685eca34ba96b8b",
              "IPY_MODEL_b3892bbcf1664692abc87fc1ff968b8b",
              "IPY_MODEL_261d470881874b3ba9ae27839e01ba78"
            ],
            "layout": "IPY_MODEL_53fc9169495b4f41b5f623df03a31949"
          }
        },
        "a94d9a062cbc420c8685eca34ba96b8b": {
          "model_module": "@jupyter-widgets/controls",
          "model_name": "HTMLModel",
          "model_module_version": "1.5.0",
          "state": {
            "_dom_classes": [],
            "_model_module": "@jupyter-widgets/controls",
            "_model_module_version": "1.5.0",
            "_model_name": "HTMLModel",
            "_view_count": null,
            "_view_module": "@jupyter-widgets/controls",
            "_view_module_version": "1.5.0",
            "_view_name": "HTMLView",
            "description": "",
            "description_tooltip": null,
            "layout": "IPY_MODEL_9e95c8ebaa144dcb955002ade686db1c",
            "placeholder": "​",
            "style": "IPY_MODEL_e2807afaa706497187945dbd096c4cbd",
            "value": "100%"
          }
        },
        "b3892bbcf1664692abc87fc1ff968b8b": {
          "model_module": "@jupyter-widgets/controls",
          "model_name": "FloatProgressModel",
          "model_module_version": "1.5.0",
          "state": {
            "_dom_classes": [],
            "_model_module": "@jupyter-widgets/controls",
            "_model_module_version": "1.5.0",
            "_model_name": "FloatProgressModel",
            "_view_count": null,
            "_view_module": "@jupyter-widgets/controls",
            "_view_module_version": "1.5.0",
            "_view_name": "ProgressView",
            "bar_style": "success",
            "description": "",
            "description_tooltip": null,
            "layout": "IPY_MODEL_46f139f2d0924dc79e4411640e2b873c",
            "max": 4,
            "min": 0,
            "orientation": "horizontal",
            "style": "IPY_MODEL_a52a9bad95ae47778bb416b0f4dfd635",
            "value": 4
          }
        },
        "261d470881874b3ba9ae27839e01ba78": {
          "model_module": "@jupyter-widgets/controls",
          "model_name": "HTMLModel",
          "model_module_version": "1.5.0",
          "state": {
            "_dom_classes": [],
            "_model_module": "@jupyter-widgets/controls",
            "_model_module_version": "1.5.0",
            "_model_name": "HTMLModel",
            "_view_count": null,
            "_view_module": "@jupyter-widgets/controls",
            "_view_module_version": "1.5.0",
            "_view_name": "HTMLView",
            "description": "",
            "description_tooltip": null,
            "layout": "IPY_MODEL_21b8a0898ba046738b01b13801a44a33",
            "placeholder": "​",
            "style": "IPY_MODEL_ffd4f51313804325bc3afeadce471073",
            "value": " 4/4 [00:30&lt;00:00,  7.51s/it]"
          }
        },
        "53fc9169495b4f41b5f623df03a31949": {
          "model_module": "@jupyter-widgets/base",
          "model_name": "LayoutModel",
          "model_module_version": "1.2.0",
          "state": {
            "_model_module": "@jupyter-widgets/base",
            "_model_module_version": "1.2.0",
            "_model_name": "LayoutModel",
            "_view_count": null,
            "_view_module": "@jupyter-widgets/base",
            "_view_module_version": "1.2.0",
            "_view_name": "LayoutView",
            "align_content": null,
            "align_items": null,
            "align_self": null,
            "border": null,
            "bottom": null,
            "display": null,
            "flex": null,
            "flex_flow": null,
            "grid_area": null,
            "grid_auto_columns": null,
            "grid_auto_flow": null,
            "grid_auto_rows": null,
            "grid_column": null,
            "grid_gap": null,
            "grid_row": null,
            "grid_template_areas": null,
            "grid_template_columns": null,
            "grid_template_rows": null,
            "height": null,
            "justify_content": null,
            "justify_items": null,
            "left": null,
            "margin": null,
            "max_height": null,
            "max_width": null,
            "min_height": null,
            "min_width": null,
            "object_fit": null,
            "object_position": null,
            "order": null,
            "overflow": null,
            "overflow_x": null,
            "overflow_y": null,
            "padding": null,
            "right": null,
            "top": null,
            "visibility": null,
            "width": null
          }
        },
        "9e95c8ebaa144dcb955002ade686db1c": {
          "model_module": "@jupyter-widgets/base",
          "model_name": "LayoutModel",
          "model_module_version": "1.2.0",
          "state": {
            "_model_module": "@jupyter-widgets/base",
            "_model_module_version": "1.2.0",
            "_model_name": "LayoutModel",
            "_view_count": null,
            "_view_module": "@jupyter-widgets/base",
            "_view_module_version": "1.2.0",
            "_view_name": "LayoutView",
            "align_content": null,
            "align_items": null,
            "align_self": null,
            "border": null,
            "bottom": null,
            "display": null,
            "flex": null,
            "flex_flow": null,
            "grid_area": null,
            "grid_auto_columns": null,
            "grid_auto_flow": null,
            "grid_auto_rows": null,
            "grid_column": null,
            "grid_gap": null,
            "grid_row": null,
            "grid_template_areas": null,
            "grid_template_columns": null,
            "grid_template_rows": null,
            "height": null,
            "justify_content": null,
            "justify_items": null,
            "left": null,
            "margin": null,
            "max_height": null,
            "max_width": null,
            "min_height": null,
            "min_width": null,
            "object_fit": null,
            "object_position": null,
            "order": null,
            "overflow": null,
            "overflow_x": null,
            "overflow_y": null,
            "padding": null,
            "right": null,
            "top": null,
            "visibility": null,
            "width": null
          }
        },
        "e2807afaa706497187945dbd096c4cbd": {
          "model_module": "@jupyter-widgets/controls",
          "model_name": "DescriptionStyleModel",
          "model_module_version": "1.5.0",
          "state": {
            "_model_module": "@jupyter-widgets/controls",
            "_model_module_version": "1.5.0",
            "_model_name": "DescriptionStyleModel",
            "_view_count": null,
            "_view_module": "@jupyter-widgets/base",
            "_view_module_version": "1.2.0",
            "_view_name": "StyleView",
            "description_width": ""
          }
        },
        "46f139f2d0924dc79e4411640e2b873c": {
          "model_module": "@jupyter-widgets/base",
          "model_name": "LayoutModel",
          "model_module_version": "1.2.0",
          "state": {
            "_model_module": "@jupyter-widgets/base",
            "_model_module_version": "1.2.0",
            "_model_name": "LayoutModel",
            "_view_count": null,
            "_view_module": "@jupyter-widgets/base",
            "_view_module_version": "1.2.0",
            "_view_name": "LayoutView",
            "align_content": null,
            "align_items": null,
            "align_self": null,
            "border": null,
            "bottom": null,
            "display": null,
            "flex": null,
            "flex_flow": null,
            "grid_area": null,
            "grid_auto_columns": null,
            "grid_auto_flow": null,
            "grid_auto_rows": null,
            "grid_column": null,
            "grid_gap": null,
            "grid_row": null,
            "grid_template_areas": null,
            "grid_template_columns": null,
            "grid_template_rows": null,
            "height": null,
            "justify_content": null,
            "justify_items": null,
            "left": null,
            "margin": null,
            "max_height": null,
            "max_width": null,
            "min_height": null,
            "min_width": null,
            "object_fit": null,
            "object_position": null,
            "order": null,
            "overflow": null,
            "overflow_x": null,
            "overflow_y": null,
            "padding": null,
            "right": null,
            "top": null,
            "visibility": null,
            "width": null
          }
        },
        "a52a9bad95ae47778bb416b0f4dfd635": {
          "model_module": "@jupyter-widgets/controls",
          "model_name": "ProgressStyleModel",
          "model_module_version": "1.5.0",
          "state": {
            "_model_module": "@jupyter-widgets/controls",
            "_model_module_version": "1.5.0",
            "_model_name": "ProgressStyleModel",
            "_view_count": null,
            "_view_module": "@jupyter-widgets/base",
            "_view_module_version": "1.2.0",
            "_view_name": "StyleView",
            "bar_color": null,
            "description_width": ""
          }
        },
        "21b8a0898ba046738b01b13801a44a33": {
          "model_module": "@jupyter-widgets/base",
          "model_name": "LayoutModel",
          "model_module_version": "1.2.0",
          "state": {
            "_model_module": "@jupyter-widgets/base",
            "_model_module_version": "1.2.0",
            "_model_name": "LayoutModel",
            "_view_count": null,
            "_view_module": "@jupyter-widgets/base",
            "_view_module_version": "1.2.0",
            "_view_name": "LayoutView",
            "align_content": null,
            "align_items": null,
            "align_self": null,
            "border": null,
            "bottom": null,
            "display": null,
            "flex": null,
            "flex_flow": null,
            "grid_area": null,
            "grid_auto_columns": null,
            "grid_auto_flow": null,
            "grid_auto_rows": null,
            "grid_column": null,
            "grid_gap": null,
            "grid_row": null,
            "grid_template_areas": null,
            "grid_template_columns": null,
            "grid_template_rows": null,
            "height": null,
            "justify_content": null,
            "justify_items": null,
            "left": null,
            "margin": null,
            "max_height": null,
            "max_width": null,
            "min_height": null,
            "min_width": null,
            "object_fit": null,
            "object_position": null,
            "order": null,
            "overflow": null,
            "overflow_x": null,
            "overflow_y": null,
            "padding": null,
            "right": null,
            "top": null,
            "visibility": null,
            "width": null
          }
        },
        "ffd4f51313804325bc3afeadce471073": {
          "model_module": "@jupyter-widgets/controls",
          "model_name": "DescriptionStyleModel",
          "model_module_version": "1.5.0",
          "state": {
            "_model_module": "@jupyter-widgets/controls",
            "_model_module_version": "1.5.0",
            "_model_name": "DescriptionStyleModel",
            "_view_count": null,
            "_view_module": "@jupyter-widgets/base",
            "_view_module_version": "1.2.0",
            "_view_name": "StyleView",
            "description_width": ""
          }
        }
      }
    }
  },
  "cells": [
    {
      "cell_type": "markdown",
      "metadata": {
        "id": "view-in-github",
        "colab_type": "text"
      },
      "source": [
        "<a href=\"https://colab.research.google.com/github/wordman2/GINN/blob/main/Praktikum3/GINN_P3_Aufgaben_jonas.ipynb\" target=\"_parent\"><img src=\"https://colab.research.google.com/assets/colab-badge.svg\" alt=\"Open In Colab\"/></a>"
      ]
    },
    {
      "cell_type": "markdown",
      "source": [
        "#0.&nbsp; Imports und Helper"
      ],
      "metadata": {
        "id": "194EMZeTSLIk"
      }
    },
    {
      "cell_type": "code",
      "source": [
        "!pip install torchinfo"
      ],
      "metadata": {
        "id": "6IoTrfAlzktH",
        "colab": {
          "base_uri": "https://localhost:8080/"
        },
        "outputId": "d8410ce0-5611-4cfc-90a7-cfccd0eb60f1"
      },
      "execution_count": 30,
      "outputs": [
        {
          "output_type": "stream",
          "name": "stdout",
          "text": [
            "Requirement already satisfied: torchinfo in /usr/local/lib/python3.10/dist-packages (1.8.0)\n"
          ]
        }
      ]
    },
    {
      "cell_type": "code",
      "execution_count": 31,
      "metadata": {
        "id": "dPt0DPgfLjEQ"
      },
      "outputs": [],
      "source": [
        "# Imports\n",
        "import copy\n",
        "\n",
        "import ipywidgets as widgets\n",
        "import matplotlib.pyplot as plt\n",
        "import numpy as np\n",
        "\n",
        "import time\n",
        "import torch\n",
        "import torchvision\n",
        "#import torchvision.datasets as datasets\n",
        "import torch.nn.functional as F\n",
        "import torch.nn as nn\n",
        "import torch.optim as optim\n",
        "import tqdm\n",
        "\n",
        "import random\n",
        "import keras.datasets.imdb\n",
        "\n",
        "from torch.autograd import Variable\n",
        "from tqdm.auto import tqdm as tqdmauto"
      ]
    },
    {
      "cell_type": "code",
      "source": [
        "def set_seed(seed=None, seed_torch=True):\n",
        "  \"\"\"\n",
        "  Handles variability by controlling sources of randomness\n",
        "  through set seed values\n",
        "\n",
        "  Args:\n",
        "    seed: Integer\n",
        "      Set the seed value to given integer.\n",
        "      If no seed, set seed value to random integer in the range 2^32\n",
        "    seed_torch: Bool\n",
        "      Seeds the random number generator for all devices to\n",
        "      offer some guarantees on reproducibility\n",
        "\n",
        "  Returns:\n",
        "    Nothing\n",
        "  \"\"\"\n",
        "  if seed is None:\n",
        "    seed = np.random.choice(2 ** 32)\n",
        "  random.seed(seed)\n",
        "  np.random.seed(seed)\n",
        "  if seed_torch:\n",
        "    torch.manual_seed(seed)\n",
        "    torch.cuda.manual_seed_all(seed)\n",
        "    torch.cuda.manual_seed(seed)\n",
        "    torch.backends.cudnn.benchmark = False\n",
        "    torch.backends.cudnn.deterministic = True\n",
        "  print(f'Random seed {seed} has been set.')\n",
        "SEED = 2021\n",
        "set_seed(seed=SEED)\n",
        "DEVICE = \"cuda\"\n",
        "\n",
        "def zero_grad(params):\n",
        "  \"\"\"\n",
        "  Clear gradients as they accumulate on successive backward calls\n",
        "\n",
        "  Args:\n",
        "    params: an iterator over tensors\n",
        "      i.e., updating the Weights and biases\n",
        "\n",
        "  Returns:\n",
        "    Nothing\n",
        "  \"\"\"\n",
        "  for par in params:\n",
        "    if not(par.grad is None):\n",
        "      par.grad.data.zero_()\n",
        "\n",
        "\n",
        "def print_params(model):\n",
        "  \"\"\"\n",
        "  Lists the name and current value of the model's\n",
        "  named parameters\n",
        "\n",
        "  Args:\n",
        "    model: an nn.Module inherited model\n",
        "      Represents the ML/DL model\n",
        "\n",
        "  Returns:\n",
        "    Nothing\n",
        "  \"\"\"\n",
        "  for name, param in model.named_parameters():\n",
        "    if param.requires_grad:\n",
        "      print(name, param.data)\n",
        "\n",
        "def sample_minibatch(input_data, target_data, num_points=100):\n",
        "  \"\"\"\n",
        "  Sample a minibatch of size num_point from the provided input-target data\n",
        "\n",
        "  Args:\n",
        "    input_data: Tensor\n",
        "      Multi-dimensional tensor containing the input data\n",
        "    target_data: Tensor\n",
        "      1D tensor containing the class labels\n",
        "    num_points: Integer\n",
        "      Number of elements to be included in minibatch with default=100\n",
        "\n",
        "  Returns:\n",
        "    batch_inputs: Tensor\n",
        "      Minibatch inputs\n",
        "    batch_targets: Tensor\n",
        "      Minibatch targets\n",
        "  \"\"\"\n",
        "  # Sample a collection of IID indices from the existing data\n",
        "  batch_indices = np.random.choice(len(input_data), num_points)\n",
        "  # Use batch_indices to extract entries from the input and target data tensors\n",
        "  batch_inputs = input_data[batch_indices, :]\n",
        "  batch_targets = target_data[batch_indices]\n",
        "\n",
        "  return batch_inputs, batch_targets\n",
        "\n",
        "\n",
        "def gradient_update(loss, params, lr=1e-3):\n",
        "  \"\"\"\n",
        "  Perform a gradient descent update on a given loss over a collection of parameters\n",
        "\n",
        "  Args:\n",
        "    loss: Tensor\n",
        "      A scalar tensor containing the loss through which the gradient will be computed\n",
        "    params: List of iterables\n",
        "      Collection of parameters with respect to which we compute gradients\n",
        "    lr: Float\n",
        "      Scalar specifying the learning rate or step-size for the update\n",
        "\n",
        "  Returns:\n",
        "    Nothing\n",
        "  \"\"\"\n",
        "  # Clear up gradients as Pytorch automatically accumulates gradients from\n",
        "  # successive backward calls\n",
        "  zero_grad(params)\n",
        "\n",
        "  # Compute gradients on given objective\n",
        "  loss.backward()\n",
        "\n",
        "  with torch.no_grad():\n",
        "    for par in params:\n",
        "      # Here we work with the 'data' attribute of the parameter rather than the\n",
        "      # parameter itself.\n",
        "      # Hence - use the learning rate and the parameter's .grad.data attribute to perform an update\n",
        "      par.data -= lr * par.grad.data"
      ],
      "metadata": {
        "id": "U6niQp1RNHxp",
        "outputId": "8170b4d9-66b5-462a-f49e-4cfa4c978bf8",
        "colab": {
          "base_uri": "https://localhost:8080/"
        }
      },
      "execution_count": 32,
      "outputs": [
        {
          "output_type": "stream",
          "name": "stdout",
          "text": [
            "Random seed 2021 has been set.\n"
          ]
        }
      ]
    },
    {
      "cell_type": "code",
      "source": [
        "(x_train, y_train), (x_test, y_test) = keras.datasets.imdb.load_data(num_words=10000, maxlen=250,)\n",
        "def vectorize_sequences(sequences, dimension=10000):\n",
        "    # all zero matrix of shape (len(sequences), dimension)\n",
        "    result = np.zeros((len(sequences), dimension))\n",
        "    for i,sequence in enumerate(sequences):\n",
        "        result[i, sequence] = 1\n",
        "    return result\n",
        "\n",
        "\n",
        "x_train = vectorize_sequences(x_train)\n",
        "x_test = vectorize_sequences(x_test)\n",
        "#x_train = np.expand_dims(x_train, -1)\n",
        "#x_test = np.expand_dims(x_test, -1)\n",
        "\n",
        "x_train = Variable(torch.from_numpy(x_train)).float().to(DEVICE)\n",
        "y_train = Variable(torch.from_numpy(y_train)).long().to(DEVICE)\n",
        "x_test  = Variable(torch.from_numpy(x_test)).float().to(DEVICE)\n",
        "y_test  = Variable(torch.from_numpy(y_test)).long().to(DEVICE)\n",
        "\n",
        "print(\"x_train shape:\", x_train.shape)\n",
        "print(\"y_train shape:\", y_train.shape)\n",
        "print(x_train.shape[0], \"train samples\")\n",
        "print(x_test.shape[0], \"test samples\")"
      ],
      "metadata": {
        "id": "tNDNF10dyqUm",
        "outputId": "76e8d72e-516f-4e82-844a-f14610c55254",
        "colab": {
          "base_uri": "https://localhost:8080/"
        }
      },
      "execution_count": 33,
      "outputs": [
        {
          "output_type": "stream",
          "name": "stdout",
          "text": [
            "x_train shape: torch.Size([17121, 10000])\n",
            "y_train shape: torch.Size([17121])\n",
            "17121 train samples\n",
            "17588 test samples\n"
          ]
        }
      ]
    },
    {
      "cell_type": "markdown",
      "source": [
        "#1.&nbsp; Softmax Implementieren\n",
        "Implementieren Sie die Softmax Funktion mit Numpy und stellen Sie zunächst sicher, dass diese die selben Ergebnisse liefert wie die Pytorch-Funktion im Beispiel. Vergleichen Sie dann Ihre Implementierungen mit anderen Gruppen und diskutieren Sie auch über Performance und numerische Stabilität. Erstellen Sie ein kleines Benchmark, um Performance und numerische Stabilität zu testen."
      ],
      "metadata": {
        "id": "tKJZz5YsSSyT"
      }
    },
    {
      "cell_type": "code",
      "source": [
        "#Ihr Code hier\n",
        "np.random.seed(11)\n",
        "\n",
        "def softmax(x):\n",
        "  exp_x = np.exp(x)\n",
        "  return exp_x / np.sum(exp_x)\n",
        "\n",
        "\n",
        "\n",
        "x = np.random.rand(100)\n",
        "\n",
        "torch_softmax = torch.nn.Softmax(dim=0)\n",
        "torch_softmax_result = torch_softmax(torch.tensor(x))\n",
        "own_softmax_result = softmax(x)\n",
        "np.round(own_softmax_result, 16) == np.round(torch_softmax_result.numpy(), 16)"
      ],
      "metadata": {
        "id": "_80I03V8ogds",
        "outputId": "a15ab2f0-04b5-4f01-8924-74824599c68b",
        "colab": {
          "base_uri": "https://localhost:8080/"
        }
      },
      "execution_count": 34,
      "outputs": [
        {
          "output_type": "execute_result",
          "data": {
            "text/plain": [
              "array([ True,  True,  True,  True,  True,  True,  True,  True,  True,\n",
              "        True,  True,  True,  True,  True,  True,  True,  True,  True,\n",
              "        True,  True,  True,  True,  True,  True,  True,  True,  True,\n",
              "        True,  True,  True,  True,  True,  True,  True,  True,  True,\n",
              "       False,  True, False,  True,  True,  True,  True,  True,  True,\n",
              "        True,  True,  True,  True,  True,  True,  True,  True,  True,\n",
              "        True,  True,  True,  True,  True,  True,  True,  True,  True,\n",
              "        True,  True,  True,  True,  True,  True,  True,  True,  True,\n",
              "        True,  True,  True,  True,  True,  True,  True,  True,  True,\n",
              "        True,  True,  True,  True,  True,  True,  True,  True,  True,\n",
              "        True,  True,  True,  True,  True,  True,  True,  True,  True,\n",
              "        True])"
            ]
          },
          "metadata": {},
          "execution_count": 34
        }
      ]
    },
    {
      "cell_type": "code",
      "source": [
        "n = 1000\n",
        "sums_of_p = []\n",
        "\n",
        "for i in range(1,n):\n",
        "  logits_range = np.linspace(-i, i, 1000)\n",
        "  softmax_result = softmax(logits_range)\n",
        "  sums_of_p.append(np.sum(softmax_result))\n",
        "\n",
        "nan_values = np.isnan(sums_of_p)\n",
        "first_nan_value = np.argmax(nan_values)\n",
        "print(\"numerical instability at \", first_nan_value)"
      ],
      "metadata": {
        "id": "nE0OKIIoZv1W",
        "outputId": "5078afab-76ce-4a38-a958-06d802dabdaf",
        "colab": {
          "base_uri": "https://localhost:8080/"
        }
      },
      "execution_count": 35,
      "outputs": [
        {
          "output_type": "stream",
          "name": "stdout",
          "text": [
            "numerical instability at  709\n"
          ]
        },
        {
          "output_type": "stream",
          "name": "stderr",
          "text": [
            "<ipython-input-34-e49ee38afd52>:5: RuntimeWarning: overflow encountered in exp\n",
            "  exp_x = np.exp(x)\n",
            "<ipython-input-34-e49ee38afd52>:6: RuntimeWarning: invalid value encountered in divide\n",
            "  return exp_x / np.sum(exp_x)\n"
          ]
        }
      ]
    },
    {
      "cell_type": "code",
      "source": [
        "# torch.set_printoptions(precision=20)\n",
        "# np.set_printoptions(precision=20)\n"
      ],
      "metadata": {
        "id": "TktHM4eN_Uek"
      },
      "execution_count": 7,
      "outputs": []
    },
    {
      "cell_type": "code",
      "source": [
        "tensor_x = torch.tensor(x)"
      ],
      "metadata": {
        "id": "tyZPiT3eb1Z7"
      },
      "execution_count": 9,
      "outputs": []
    },
    {
      "cell_type": "code",
      "source": [
        "%%timeit\n",
        "#Ihre Benchmarks hier\n",
        "torch_softmax(tensor_x)"
      ],
      "metadata": {
        "id": "x0VacAxQu5JS",
        "outputId": "04410bbe-1b9a-45ee-a735-c1fbf4c09176",
        "colab": {
          "base_uri": "https://localhost:8080/"
        }
      },
      "execution_count": 16,
      "outputs": [
        {
          "output_type": "stream",
          "name": "stdout",
          "text": [
            "4.94 µs ± 149 ns per loop (mean ± std. dev. of 7 runs, 100000 loops each)\n"
          ]
        }
      ]
    },
    {
      "cell_type": "code",
      "source": [
        "%%timeit\n",
        "softmax(x)"
      ],
      "metadata": {
        "id": "gzNm9SiZFjPw",
        "outputId": "1113fd14-1039-4d19-a728-0b42d37e38f6",
        "colab": {
          "base_uri": "https://localhost:8080/"
        }
      },
      "execution_count": 18,
      "outputs": [
        {
          "output_type": "stream",
          "name": "stdout",
          "text": [
            "7.1 µs ± 1.71 µs per loop (mean ± std. dev. of 7 runs, 100000 loops each)\n"
          ]
        }
      ]
    },
    {
      "cell_type": "markdown",
      "source": [
        "Bei 16 Nachkommastellen war ein Wert False, bei 15 alle True."
      ],
      "metadata": {
        "id": "ZvLmxL_LVFX5"
      }
    },
    {
      "cell_type": "markdown",
      "source": [
        "#2.&nbsp; Regularisierung Implementieren\n",
        "\n",
        "Unten finden Sie einen Pytorch-SGD Schritt mit eingebauter L2-Regularisierung und ohne. Interpretieren Sie die unterschiedlichen Ausgaben. Modifizieren Sie den ersten Codabschnitt mit einer eigenen L2-Regularisierung so, dass identische Ergebnisse erzeugt werden. Sie können dazu die noch nicht verwendete und noch falsch definierte Variable \"regtermwrong\" umdefinieren und zu einem späteren Zeitpunkt im Code darauf zurückgreifen. ACHTUNG: weight_decay*2=lambda."
      ],
      "metadata": {
        "id": "c0u-OqU8U-sL"
      }
    },
    {
      "cell_type": "code",
      "source": [
        "#Datendefinition\n",
        "np.random.seed(123)\n",
        "np.set_printoptions(4, suppress=True)\n",
        "torch.set_printoptions(precision=4)\n",
        "\n",
        "x_numpy = np.random.random((3, 4)).astype(np.double)\n",
        "w_numpy = np.random.random((4, 5)).astype(np.double)\n",
        "w_numpy[0,0] =9.9\n",
        "x_torch = torch.tensor(x_numpy, requires_grad=True)\n"
      ],
      "metadata": {
        "id": "O0Hn585ETRWD"
      },
      "execution_count": 38,
      "outputs": []
    },
    {
      "cell_type": "code",
      "source": [
        "# ohne/eigene Regularisierung\n",
        "w_torch = torch.tensor(w_numpy, requires_grad=True)\n",
        "print('Original weights', w_torch)\n",
        "\n",
        "lr = 0.1\n",
        "sgd = torch.optim.SGD([w_torch], lr=lr, weight_decay=0)\n",
        "regtermwrong = max(p.max() for p in w_torch)\n",
        "regterm = sum(sum([p**2 for p in w_torch]))\n",
        "y_torch = torch.matmul(x_torch, w_torch)\n",
        "loss = y_torch.sum() + regterm #\n",
        "\n",
        "\n",
        "sgd.zero_grad()\n",
        "loss.backward()\n",
        "sgd.step()\n",
        "\n",
        "w_grad = w_torch.grad.data.numpy()\n",
        "print('0 weight decay', w_torch)"
      ],
      "metadata": {
        "id": "S5XEpjWFTTzi",
        "outputId": "542edbb2-ce0e-4987-d5d5-2697c064190f",
        "colab": {
          "base_uri": "https://localhost:8080/"
        }
      },
      "execution_count": 40,
      "outputs": [
        {
          "output_type": "stream",
          "name": "stdout",
          "text": [
            "Original weights tensor([[9.9000, 0.0597, 0.3980, 0.7380, 0.1825],\n",
            "        [0.1755, 0.5316, 0.5318, 0.6344, 0.8494],\n",
            "        [0.7245, 0.6110, 0.7224, 0.3230, 0.3618],\n",
            "        [0.2283, 0.2937, 0.6310, 0.0921, 0.4337]], dtype=torch.float64,\n",
            "       requires_grad=True)\n",
            "0 weight decay tensor([[ 7.7303, -0.1419,  0.1287,  0.4007, -0.0437],\n",
            "        [ 0.0302,  0.3151,  0.3153,  0.3974,  0.5694],\n",
            "        [ 0.4245,  0.3337,  0.4229,  0.1033,  0.1344],\n",
            "        [-0.0139,  0.0385,  0.3083, -0.1228,  0.1504]], dtype=torch.float64,\n",
            "       requires_grad=True)\n"
          ]
        }
      ]
    },
    {
      "cell_type": "code",
      "source": [
        "#mit Regularisierung\n",
        "\n",
        "\n",
        "w_torch = torch.tensor(w_numpy, requires_grad=True)\n",
        "\n",
        "print('Reset Original weights', w_torch)\n",
        "\n",
        "sgd = torch.optim.SGD([w_torch], lr=lr, weight_decay=2)\n",
        "\n",
        "y_torch = torch.matmul(x_torch, w_torch)\n",
        "loss = y_torch.sum()\n",
        "\n",
        "sgd.zero_grad()\n",
        "loss.backward()\n",
        "sgd.step()\n",
        "\n",
        "w_grad = w_torch.grad.data.numpy()\n",
        "print('1 weight decay', w_torch)"
      ],
      "metadata": {
        "id": "WiQW-Y4VkH7v",
        "outputId": "4a0fc7f8-63a7-44ce-a183-7e2e01df09c2",
        "colab": {
          "base_uri": "https://localhost:8080/"
        }
      },
      "execution_count": 24,
      "outputs": [
        {
          "output_type": "stream",
          "name": "stdout",
          "text": [
            "Reset Original weights tensor([[9.90000000000000035527, 0.05967789660956834830, 0.39804425533043141794,\n",
            "         0.73799540573203570304, 0.18249173045349997846],\n",
            "        [0.17545175614749253246, 0.53155137384183837046, 0.53182758709686606124,\n",
            "         0.63440095855132105918, 0.84943179407778957035],\n",
            "        [0.72445532486063524136, 0.61102351067758287062, 0.72244338257022155947,\n",
            "         0.32295891385317820887, 0.36178865562231410369],\n",
            "        [0.22826323087895561414, 0.29371404638882936400, 0.63097612385448775818,\n",
            "         0.09210493994507518156, 0.43370117267952823514]], dtype=torch.float64,\n",
            "       requires_grad=True)\n",
            "1 weight decay tensor([[ 7.73031299431322160842, -0.14194468839912388614,\n",
            "          0.12874839857756656403,  0.40070931889884997545,\n",
            "         -0.04369362132397859588],\n",
            "        [ 0.03022507359109493502,  0.31510476774657159016,\n",
            "          0.31532573835059374279,  0.39738443551415775223,\n",
            "          0.56940910393533250566],\n",
            "        [ 0.42448489307853937147,  0.33373944173209751929,\n",
            "          0.42287533924620845927,  0.10328776427257371773,\n",
            "          0.13435155768788248354],\n",
            "        [-0.01390883680201514781,  0.03845181560588387115,\n",
            "          0.30826147757841060315, -0.12283546954911947480,\n",
            "          0.15044151663844296252]], dtype=torch.float64, requires_grad=True)\n"
          ]
        }
      ]
    },
    {
      "cell_type": "markdown",
      "source": [
        "Bei dem Code ohne Regularisierung wird nach der Berechnung von x\\*W wird das Maximum von x\\*W auf alle Elemente in y addiert. Durch die Regularisierung werden nach dem ersten Backward-Schritt große Gewichte stärker reduziert als kleinere Gewichte. Tritt keine Regularisierung ein, bleiben große Gewichte groß, kleine Gewichte klein."
      ],
      "metadata": {
        "id": "4-6__NJZLkgC"
      }
    },
    {
      "cell_type": "markdown",
      "source": [
        "#3.&nbsp; Einfaches MLP in Pytorch\n",
        "Machen Sie sich ein wenig mit dem IMDB Datensatz und den für Sie erstellten Datenstrukturen in x/y_train/test vertraut."
      ],
      "metadata": {
        "id": "sQk-ciLBYGnu"
      }
    },
    {
      "cell_type": "markdown",
      "source": [
        "## 3.1 Modell erstellen und  Angaben zur Modellgröße verstehen\n",
        "Definieren Sie ein Pytorch Multilayer Perzeptron mit der Größe des IMDB-Dictionaries für one-hot-encodierte Wörte als Eingabe (RELU Aktivierung), 50 Neuronen im Hidden Layer und 2 Ausgabeneuronen. Layer 1 und 2 Ihres Netzes verwendet die Sigmoid-Aktivierungsfunktion, Layer 3 die Softmax-Aktivierungsfunktion.\n",
        "\n",
        "Generieren Sie Modell-Summary mit torchinfo und erklären Sie, was die ausgegebenen Werte bedeuten und wie diese zustande kommen."
      ],
      "metadata": {
        "id": "mLeOKvUxMunF"
      }
    },
    {
      "cell_type": "code",
      "source": [
        "x_train.shape"
      ],
      "metadata": {
        "colab": {
          "base_uri": "https://localhost:8080/"
        },
        "id": "IC2hZGQpMmMn",
        "outputId": "1f6b5373-547b-4980-faac-945204e1f74e"
      },
      "execution_count": null,
      "outputs": [
        {
          "output_type": "execute_result",
          "data": {
            "text/plain": [
              "torch.Size([17121, 10000])"
            ]
          },
          "metadata": {},
          "execution_count": 18
        }
      ]
    },
    {
      "cell_type": "code",
      "source": [
        "#Ihr Code hier\n",
        "from torchinfo import summary\n",
        "\n",
        "class MLP(nn.Module):\n",
        "\n",
        "  def __init__(self, input_size, hidden_size, output_size):\n",
        "    super(MLP, self).__init__()\n",
        "\n",
        "    self.input_size = input_size\n",
        "    self.hidden_size = hidden_size\n",
        "    self.output_size = output_size\n",
        "\n",
        "    self.myModel = nn.Sequential(\n",
        "        nn.Linear(self.input_size, self.hidden_size),\n",
        "        nn.Sigmoid(),\n",
        "        nn.Linear(self.hidden_size, self.hidden_size),\n",
        "        nn.Sigmoid(),\n",
        "        nn.Linear(self.hidden_size, self.output_size),\n",
        "        nn.Softmax()\n",
        "    )\n",
        "\n",
        "  def forward(self, x):\n",
        "    return self.myModel(x)\n",
        "\n",
        "\n",
        "input_size = x_train.shape[1]\n",
        "hidden_neurons = 50\n",
        "output_size = 2\n",
        "model = MLP(input_size, hidden_neurons, output_size)\n",
        "batch_size = 1\n",
        "summary(model, input_size=(batch_size, input_size))"
      ],
      "metadata": {
        "id": "TikQht7LmNnc",
        "colab": {
          "base_uri": "https://localhost:8080/"
        },
        "outputId": "22f2c8c1-1a16-4b9a-f75e-a91f08e192d7"
      },
      "execution_count": 48,
      "outputs": [
        {
          "output_type": "execute_result",
          "data": {
            "text/plain": [
              "==========================================================================================\n",
              "Layer (type:depth-idx)                   Output Shape              Param #\n",
              "==========================================================================================\n",
              "MLP                                      [1, 2]                    --\n",
              "├─Sequential: 1-1                        [1, 2]                    --\n",
              "│    └─Linear: 2-1                       [1, 50]                   500,050\n",
              "│    └─Sigmoid: 2-2                      [1, 50]                   --\n",
              "│    └─Linear: 2-3                       [1, 50]                   2,550\n",
              "│    └─Sigmoid: 2-4                      [1, 50]                   --\n",
              "│    └─Linear: 2-5                       [1, 2]                    102\n",
              "│    └─Softmax: 2-6                      [1, 2]                    --\n",
              "==========================================================================================\n",
              "Total params: 502,702\n",
              "Trainable params: 502,702\n",
              "Non-trainable params: 0\n",
              "Total mult-adds (M): 0.50\n",
              "==========================================================================================\n",
              "Input size (MB): 0.04\n",
              "Forward/backward pass size (MB): 0.00\n",
              "Params size (MB): 2.01\n",
              "Estimated Total Size (MB): 2.05\n",
              "=========================================================================================="
            ]
          },
          "metadata": {},
          "execution_count": 48
        }
      ]
    },
    {
      "cell_type": "markdown",
      "source": [],
      "metadata": {
        "id": "RM-99k0CIhvj"
      }
    },
    {
      "cell_type": "markdown",
      "source": [
        "## 3.2 Modell trainieren und Performancekurven interpretieren\n",
        "Nutzen Sie den untenstehenden Code um Ihr Modell zu trainieren. Interpretieren und diskutieren Sie die entstehenden Performancekurven. Falls Sie einen unerwarteten Anstieg Ihres Losses beobachten, recherchieren Sie wie Sie diese mit dem Einbau einer einzelnen Verbesserung innerhalb des gegebenen SGD Lernverfahrens beheben können. ACHTUNG: Wenn Sie Ihr Modell nicht oben neu initialisieren, optimieren Sie weiter auf den schon veränderten Parametern."
      ],
      "metadata": {
        "id": "GUoAJo8WMzfb"
      }
    },
    {
      "cell_type": "code",
      "source": [
        "EPOCHS  = 6 #@param {type:\"slider\", min:2, max:1000, step:1}\n",
        "RATE = 0.5 #@param {type:\"slider\", min:0.001, max:2, step:0.001}\n",
        "model = MLP(input_size, hidden_neurons, output_size).to(DEVICE)\n",
        "optimizer = torch.optim.SGD(model.parameters(), lr=RATE, momentum=0.7, weight_decay=0)\n",
        "loss_fn   = nn.CrossEntropyLoss()\n",
        "loss_list     = np.zeros((EPOCHS,))\n",
        "accuracy_list = np.zeros((EPOCHS,))\n",
        "accuracy_list_test = np.zeros((EPOCHS,))\n",
        "\n",
        "\n",
        "for epoch in tqdm.trange(EPOCHS):\n",
        "    y_pred = model(x_train)\n",
        "    loss = loss_fn(y_pred, y_train)\n",
        "    loss_list[epoch] = loss.item()\n",
        "    #loss = loss_fn(y_pred, y_train)# + 0.01 *l2_reg(model)\n",
        "\n",
        "    # Zero gradients\n",
        "    optimizer.zero_grad()\n",
        "\n",
        "    loss.backward()\n",
        "    #torch.nn.utils.clip_grad_norm_(model.parameters(), 0.5)#, args.clip)\n",
        "    optimizer.step()\n",
        "\n",
        "    with torch.no_grad():\n",
        "        y_pred = model(x_train)\n",
        "        correct = (torch.argmax(y_pred, dim=1) == y_train).type(torch.FloatTensor)\n",
        "        accuracy_list[epoch] = correct.mean()\n",
        "        y_pred = model(x_test)\n",
        "        correct = (torch.argmax(y_pred, dim=1) == y_test).type(torch.FloatTensor)\n",
        "        accuracy_list_test[epoch] = correct.mean()\n",
        "\n",
        "\n",
        "\n",
        "\n",
        "fig, (ax1, ax2, ax3) = plt.subplots(3, figsize=(12, 6), sharex=True)\n",
        "\n",
        "ax1.plot(accuracy_list)\n",
        "ax1.set_ylabel(\"train accuracy\")\n",
        "ax2.plot(loss_list)\n",
        "ax2.set_ylabel(\"train loss\")\n",
        "ax3.plot(accuracy_list_test)\n",
        "ax3.set_ylabel(\"test acc\")\n",
        "ax3.set_xlabel(\"epochs\");"
      ],
      "metadata": {
        "id": "JD2AkGHGrpGV",
        "colab": {
          "base_uri": "https://localhost:8080/",
          "height": 564
        },
        "outputId": "d163a474-5e17-4e83-e67e-decf0a5df959"
      },
      "execution_count": 49,
      "outputs": [
        {
          "output_type": "stream",
          "name": "stderr",
          "text": [
            "100%|██████████| 6/6 [00:00<00:00, 11.83it/s]\n"
          ]
        },
        {
          "output_type": "display_data",
          "data": {
            "text/plain": [
              "<Figure size 1200x600 with 3 Axes>"
            ],
            "image/png": "[encoded data removed]"
          },
          "metadata": {}
        }
      ]
    },
    {
      "cell_type": "markdown",
      "source": [
        "##3.3.&nbsp;Momentum Implementieren\n",
        "Vervollständigen Sie Methode momentum_update. Überlegen Sie sich, wie Sie die Korrektheit mit einem Durchlauf inkl. Momentum Update auf Ihrem oben definierten Modell prüfen können"
      ],
      "metadata": {
        "id": "F3kyvbJaTjZ7"
      }
    },
    {
      "cell_type": "code",
      "source": [
        "def momentum_update(loss, params, grad_vel, lr=1e-3, beta=0.8):\n",
        "\n",
        "  # Clear up gradients as Pytorch automatically accumulates gradients from\n",
        "  # successive backward calls\n",
        "  zero_grad(params)\n",
        "\n",
        "  # Compute gradients on given objective\n",
        "  loss.backward()\n",
        "\n",
        "  with torch.no_grad():\n",
        "    for (par, vel) in zip(params, grad_vel):\n",
        "      param_grad = par.grad.data # Gradient des aktuellen Parameters\n",
        "      vel.data = param_grad + beta*vel.data # aktualisiere Momentum\n",
        "      par.data = par.data - lr*vel.data # aktualisiere Parameter\n",
        "\n",
        "model = MLP(input_size, hidden_neurons, output_size).to(DEVICE)\n",
        "optimizer = torch.optim.SGD(model.parameters(), lr=1e-3, momentum=0.8, weight_decay=0)\n",
        "loss_fn   = nn.CrossEntropyLoss()\n",
        "\n",
        "# 1. forward\n",
        "y_pred = model(x_train)\n",
        "loss = loss_fn(y_pred, y_train)\n",
        "\n",
        "# 1. backward\n",
        "optimizer.zero_grad()\n",
        "loss.backward()\n",
        "optimizer.step()\n",
        "\n",
        "# get momentum of 1. backward\n",
        "momentum_vel = list()\n",
        "for group in optimizer.param_groups:\n",
        "    for p in group['params']:\n",
        "        param_state = optimizer.state[p]\n",
        "        if 'momentum_buffer' in param_state:\n",
        "            momentum = param_state['momentum_buffer']\n",
        "            momentum_vel.append(momentum)\n",
        "\n",
        "# copy model\n",
        "model_copy = MLP(input_size, hidden_neurons, output_size).to(DEVICE)\n",
        "model_copy.load_state_dict(model.state_dict())\n",
        "optimizer_copy = torch.optim.SGD(model_copy.parameters(), lr=1e-3)\n",
        "loss_copy = nn.CrossEntropyLoss()\n",
        "\n",
        "# 2. forward original\n",
        "y_pred = model(x_train)\n",
        "loss = loss_fn(y_pred, y_train)\n",
        "# 2. forward copy\n",
        "y_pred_copy = model_copy(x_train)\n",
        "loss_2 = loss_copy(y_pred_copy, y_train)\n",
        "\n",
        "# 2. backward original\n",
        "optimizer.zero_grad()\n",
        "loss.backward()\n",
        "optimizer.step()\n",
        "\n",
        "# 2. backward copy\n",
        "momentum_update(loss_2, list(model_copy.parameters()), momentum_vel)\n",
        "# print_params(model)\n",
        "model_copy.parameters() == model.parameters()"
      ],
      "metadata": {
        "id": "36whMhqnMKuc",
        "colab": {
          "base_uri": "https://localhost:8080/"
        },
        "outputId": "808b866c-65d7-4c09-e3fb-1baa1d7dda9e"
      },
      "execution_count": 50,
      "outputs": [
        {
          "output_type": "execute_result",
          "data": {
            "text/plain": [
              "False"
            ]
          },
          "metadata": {},
          "execution_count": 50
        }
      ]
    },
    {
      "cell_type": "markdown",
      "source": [
        "##3.4 Experimente zum Lernverhalten mit Momentum und Batch Size\n",
        "Im folgenden können Sie für ein festgelegtes Zeitbudget schauen, wie sich der Loss Ihres neuronalen Netzes innerhalb dieser Zeit entwickelt.\n",
        "Experimentieren Sie zunächst mit den Voreinstellungen mit und ohne Momentum, probieren Sie dann eigene Einstellungen aus. Diskutieren Sie das visualisierte Lernverhalten insbesondere bzgl. unterschiedlicher Batch Sizes."
      ],
      "metadata": {
        "id": "OPLRI_RKn2Mc"
      }
    },
    {
      "cell_type": "code",
      "source": [
        "@widgets.interact_manual\n",
        "def minibatch_experiment(batch_sizes='1, 20, 500, 17000',\n",
        "                         lrs='0.9, 0.9, 0.9, 0.9',\n",
        "                         time_budget=widgets.Dropdown(options=[\"0.05\", \"0.5\",  \"2.0\", \"5.0\", \"7.5\"],\n",
        "                                                      value=\"5.0\"),\n",
        "                         use_momentum = widgets.ToggleButton(value=True)):\n",
        "\n",
        "  \"\"\"\n",
        "  Demonstration of minibatch experiment\n",
        "\n",
        "  Args:\n",
        "    batch_sizes: String\n",
        "      Size of minibatches\n",
        "    lrs: String\n",
        "      Different learning rates\n",
        "    time_budget: widget dropdown instance\n",
        "      Different time budgets with default=2.5s\n",
        "\n",
        "  Returns:\n",
        "    Nothing\n",
        "  \"\"\"\n",
        "  batch_sizes = [int(s) for s in batch_sizes.split(',')]\n",
        "  lrs = [float(s) for s in lrs.split(',')]\n",
        "\n",
        "  LOSS_HIST = {_:[] for _ in batch_sizes}\n",
        "\n",
        "  #X, y = train_set.data, train_set.targets\n",
        "  # base_model = Model(x_train.shape[1]).to(DEVICE)\n",
        "  base_model = MLP(x_train.shape[1], 50, 2)\n",
        "\n",
        "  for id, batch_size in enumerate(tqdm.auto.tqdm(batch_sizes)):\n",
        "    start_time = time.time()\n",
        "    # Create a new copy of the model for each batch size\n",
        "    model = copy.deepcopy(base_model).to(DEVICE)\n",
        "    params = list(model.parameters())\n",
        "    lr = lrs[id]\n",
        "    # Fixed budget per choice of batch size\n",
        "    #initial_vel = [torch.randn_like(p) for p in model.parameters()]\n",
        "    aux_tensors = [torch.zeros_like(_) for _ in params]\n",
        "    while (time.time() - start_time) < float(time_budget):\n",
        "      data, labels = sample_minibatch(x_train, y_train, batch_size)\n",
        "      loss = loss_fn(model(data), labels)\n",
        "      if use_momentum:\n",
        "        momentum_update(loss, params, grad_vel=aux_tensors, lr=lr, beta=0.5)\n",
        "      else:\n",
        "        gradient_update(loss, params, lr=lr)\n",
        "      LOSS_HIST[batch_size].append([time.time() - start_time,\n",
        "                                    loss.item()])\n",
        "\n",
        "  fig, axs = plt.subplots(1, len(batch_sizes), figsize=(10, 3))\n",
        "  for ax, batch_size in zip(axs, batch_sizes):\n",
        "    plot_data = np.array(LOSS_HIST[batch_size])\n",
        "    ax.plot(plot_data[:, 0], plot_data[:, 1], label=batch_size,\n",
        "            alpha=0.8)\n",
        "    #ax.set_title('Batch size: ' + str(batch_size) + ' #: ' + str(batch_size*len(LOSS_HIST[batch_size])))\n",
        "    ax.set_title(' #: ' + str(batch_size*len(LOSS_HIST[batch_size])))\n",
        "    ax.set_xlabel('Seconds')\n",
        "    ax.set_ylabel('Loss')\n",
        "  plt.show()\n",
        "  #return(LOSS_HIST)\n",
        "loss_fn   = nn.CrossEntropyLoss()\n"
      ],
      "metadata": {
        "id": "ebevIBNQt4-l",
        "outputId": "37a51c37-8c37-444e-f356-c46e61ee8ad6",
        "colab": {
          "base_uri": "https://localhost:8080/",
          "height": 525,
          "referenced_widgets": [
            "201c7406473a4ee68f6ed4f4db59f143",
            "bcc923b8fa2e467cb70911639a3852be",
            "39e0fb7f97f249a1ace72186455e8a2f",
            "52bad19505e94e959ca0e09c919700ab",
            "a793730b793f425abbedea23ec7bd297",
            "eb63bc85ad9245cf8c41d5a760428965",
            "cbb9abacd003470a8c560a524b95d6e4",
            "23a3c05f27114b778a8ae9160c7db521",
            "14d25e82d4c94a0dbb09319caac5cb25",
            "c900076bfc0d486c8f801ecdbe72ef39",
            "25dabb22cc9c490bb81efc2a2b603288",
            "eceb3411f2904ef09c9426d626a0d9a8",
            "95dc268110da4b9299ba3eb5bd5584cf",
            "66bbda77ebae4260a03a25e8e60faef0",
            "1fc367d73eea4dfa81ed414d48a5148b",
            "3bd1e42990604e15b9aefc612f1149cb",
            "3c714f61dad740a98556397e695249f8",
            "8817eff9efbd4120a7c87ff61ffaa76c",
            "c7fa6407cd5641c68a907472bc5250b4",
            "abbd57abc40c4c98a4fa0f083955e06a",
            "f3567c99f89f4d0fbff6dd7bdc7e2e62",
            "19a98ac619d9433b9e2586c9e9d9e4da",
            "dd33ee1d0be149a7b08520df20adcbe9",
            "d4a92de717c24a2cb8eda170280107b8",
            "58db3aca474b44aba7abfd4f62a46560",
            "ac8d1157da8a4a53b12f03e6c537819a",
            "74b4eb86c4fc497aba5ffb63a20ea967",
            "c58a0a962760417291f315a410e8d0cc",
            "06033e35c1134eabbe77ed57e3236e80",
            "433590584d844c64ac03031c32d64788",
            "d66a2827787e436fb9aa38ea0972e6dc",
            "d02cf2f27a55444abd7b8756a67bd36c",
            "032b8a5b5c4244fab628589b2ebb9048",
            "9a7d727cb65e4703a7c4af79e55fe60e",
            "0c0d9a34cf9d4636b34c9fc7d5660d46",
            "e134e07c2ab34b0c9916f43c33daa29c",
            "02a054da5c4d4d929451f59720b2b8b3",
            "9d6b8aa9f7904fe79e8b9c2c51c65763",
            "6cbc3b42872a4d72838d5b7063fa88d2",
            "75dadff328f14e49b3b923c9131f6396",
            "e4dff969a48b4a35a37b04890f131930",
            "b99fb8a63d624356ba4209676c7a9f1b",
            "a94d9a062cbc420c8685eca34ba96b8b",
            "b3892bbcf1664692abc87fc1ff968b8b",
            "261d470881874b3ba9ae27839e01ba78",
            "53fc9169495b4f41b5f623df03a31949",
            "9e95c8ebaa144dcb955002ade686db1c",
            "e2807afaa706497187945dbd096c4cbd",
            "46f139f2d0924dc79e4411640e2b873c",
            "a52a9bad95ae47778bb416b0f4dfd635",
            "21b8a0898ba046738b01b13801a44a33",
            "ffd4f51313804325bc3afeadce471073"
          ]
        }
      },
      "execution_count": 59,
      "outputs": [
        {
          "output_type": "display_data",
          "data": {
            "text/plain": [
              "interactive(children=(Text(value='1, 20, 500, 17000', description='batch_sizes'), Text(value='0.9, 0.9, 0.9, 0…"
            ],
            "application/vnd.jupyter.widget-view+json": {
              "version_major": 2,
              "version_minor": 0,
              "model_id": "201c7406473a4ee68f6ed4f4db59f143"
            }
          },
          "metadata": {}
        }
      ]
    },
    {
      "cell_type": "markdown",
      "source": [
        "![image.png](data:image/png;base64,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)"
      ],
      "metadata": {
        "id": "e9yCfSXR1The"
      }
    }
  ]
}